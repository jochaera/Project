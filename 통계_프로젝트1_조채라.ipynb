{
  "nbformat": 4,
  "nbformat_minor": 0,
  "metadata": {
    "colab": {
      "provenance": []
    },
    "kernelspec": {
      "name": "python3",
      "display_name": "Python 3"
    },
    "language_info": {
      "name": "python"
    }
  },
  "cells": [
    {
      "cell_type": "code",
      "execution_count": 1,
      "metadata": {
        "id": "o3WW93QOFl0r"
      },
      "outputs": [],
      "source": [
        "import pandas as pd\n",
        "import numpy as np\n",
        "\n",
        "import seaborn as sns\n",
        "from sklearn.linear_model import LinearRegression\n",
        "from sklearn.metrics import r2_score\n",
        "from scipy import stats\n",
        "\n",
        "import warnings\n",
        "warnings.filterwarnings('ignore')\n",
        "\n",
        "import matplotlib.pyplot as plt\n"
      ]
    },
    {
      "cell_type": "markdown",
      "source": [
        "###📋 미션 1: A/B 테스트 신뢰구간 분석 🧪"
      ],
      "metadata": {
        "id": "TUT0lidXGbR4"
      }
    },
    {
      "cell_type": "code",
      "source": [
        "# A/B 테스트 데이터 생성\n",
        "np.random.seed(404)\n",
        "\n",
        "# A그룹 (기존 디자인): 전환율 12%\n",
        "n_a = 500\n",
        "conversion_rate_a = 0.12\n",
        "conversions_a = np.random.binomial(1, conversion_rate_a, n_a)\n",
        "\n",
        "# B그룹 (새 디자인): 전환율 15%\n",
        "n_b = 500\n",
        "conversion_rate_b = 0.15\n",
        "conversions_b = np.random.binomial(1, conversion_rate_b, n_b)\n",
        "\n",
        "# 데이터프레임 생성\n",
        "ab_test_data = pd.DataFrame({\n",
        "    'group': ['A']*n_a + ['B']*n_b,\n",
        "    'user_id': range(1, n_a + n_b + 1),\n",
        "    'converted': np.concatenate([conversions_a, conversions_b])\n",
        "})\n",
        "\n",
        "print(\"🧪 A/B 테스트 데이터\")\n",
        "print(f\"A그룹 사용자 수: {n_a}명\")\n",
        "print(f\"B그룹 사용자 수: {n_b}명\")\n",
        "print(\"\\n그룹별 전환율:\")\n",
        "conversion_summary = ab_test_data.groupby('group')['converted'].agg(['count', 'sum', 'mean'])\n",
        "conversion_summary.columns = ['총_사용자수', '전환_사용자수', '전환율']\n",
        "print(conversion_summary)"
      ],
      "metadata": {
        "colab": {
          "base_uri": "https://localhost:8080/"
        },
        "id": "AidkPHXTFv8r",
        "outputId": "3485f907-7b4e-41bd-deb1-94e04816a6e7"
      },
      "execution_count": 2,
      "outputs": [
        {
          "output_type": "stream",
          "name": "stdout",
          "text": [
            "🧪 A/B 테스트 데이터\n",
            "A그룹 사용자 수: 500명\n",
            "B그룹 사용자 수: 500명\n",
            "\n",
            "그룹별 전환율:\n",
            "       총_사용자수  전환_사용자수    전환율\n",
            "group                        \n",
            "A         500       60  0.120\n",
            "B         500       56  0.112\n"
          ]
        }
      ]
    },
    {
      "cell_type": "code",
      "source": [
        "# TODO: p_a 계산하기 (A그룹 전환율)\n",
        "p_a = conversions_a.mean()  # A그룹 전환율\n",
        "\n",
        "\n",
        "# TODO: p_b 계산하기 (B그룹 전환율)\n",
        "p_b = conversions_b.mean()  # B그룹 전환율\n",
        "\n",
        "\n",
        "# TODO: A그룹 표준오차 계산하기\n",
        "# 힌트: 비율의 표준오차 공식은 sqrt(p(1-p)/n)\n",
        "se_a = np.sqrt(p_a * (1 - p_a) / n_a)  # A그룹 표준오차\n",
        "\n",
        "\n",
        "# TODO: B그룹 표준오차 계산하기\n",
        "se_b = np.sqrt(p_b * (1 - p_b) / n_b)  # B그룹 표준오차\n",
        "\n",
        "\n",
        "print(f\"A그룹 전환율: {p_a:.3f} ± {se_a:.3f}\")\n",
        "print(f\"B그룹 전환율: {p_b:.3f} ± {se_b:.3f}\")\n"
      ],
      "metadata": {
        "colab": {
          "base_uri": "https://localhost:8080/"
        },
        "id": "DlBv0KQEGkej",
        "outputId": "194aa845-8e29-4042-dba3-e981de29ab0b"
      },
      "execution_count": 3,
      "outputs": [
        {
          "output_type": "stream",
          "name": "stdout",
          "text": [
            "A그룹 전환율: 0.120 ± 0.015\n",
            "B그룹 전환율: 0.112 ± 0.014\n"
          ]
        }
      ]
    },
    {
      "cell_type": "code",
      "source": [
        "# 95% 신뢰구간 계산을 위한 z값\n",
        "z_score = 1.96  # 95% 신뢰수준에서 사용하는 임계값\n",
        "\n",
        "# A그룹 전환율과 표준오차는 앞에서 구한 값 사용\n",
        "# p_a = 0.120\n",
        "# se_a = 0.015\n",
        "\n",
        "# 신뢰구간 계산\n",
        "ci_a_lower = p_a - z_score * se_a\n",
        "ci_a_upper = p_a + z_score * se_a\n",
        "\n",
        "# 출력\n",
        "print(f\"A그룹 95% 신뢰구간: [{ci_a_lower:.3f}, {ci_a_upper:.3f}]\")\n"
      ],
      "metadata": {
        "colab": {
          "base_uri": "https://localhost:8080/"
        },
        "id": "yRg_ynDDH-7K",
        "outputId": "2d995570-4236-4881-b90c-a7571a48672d"
      },
      "execution_count": 4,
      "outputs": [
        {
          "output_type": "stream",
          "name": "stdout",
          "text": [
            "A그룹 95% 신뢰구간: [0.092, 0.148]\n"
          ]
        }
      ]
    },
    {
      "cell_type": "markdown",
      "source": [
        "A그룹의 실제 전환율(모수)이 약 9.2% ~ 14.8% 사이에 있을 것으로 95% 확신\n",
        "\n",
        "이 신뢰구간은 우리가 관찰한 값(12.0%)을 중심으로 ± 2.8% 정도의 불확실성을 포함\n",
        "\n",
        "즉, A그룹의 전환율 추정에 어느 정도 통계적 오차가 존재한다는 의미"
      ],
      "metadata": {
        "id": "MgvCDlntJYo3"
      }
    },
    {
      "cell_type": "code",
      "source": [
        "# B그룹의 전환율과 표준오차 (이전 문제에서 사용한 값 기준)\n",
        "# p_b = 0.112\n",
        "# se_b = 0.014\n",
        "# z_score = 1.96\n",
        "\n",
        "# B그룹 신뢰구간 계산\n",
        "ci_b_lower = p_b - z_score * se_b\n",
        "ci_b_upper = p_b + z_score * se_b\n",
        "\n",
        "# 출력\n",
        "print(f\"B그룹 95% 신뢰구간: [{ci_b_lower:.3f}, {ci_b_upper:.3f}]\")\n"
      ],
      "metadata": {
        "colab": {
          "base_uri": "https://localhost:8080/"
        },
        "id": "nfOKabGUJtkl",
        "outputId": "679e79cf-fffc-4743-8903-ef83640ce23f"
      },
      "execution_count": 5,
      "outputs": [
        {
          "output_type": "stream",
          "name": "stdout",
          "text": [
            "B그룹 95% 신뢰구간: [0.084, 0.140]\n"
          ]
        }
      ]
    },
    {
      "cell_type": "markdown",
      "source": [
        "B그룹(빨간 버튼)의 전환율 신뢰구간은 **[8.4%, 14.0%]**\n",
        "\n",
        "A그룹(파란 버튼)의 신뢰구간은 **[9.2%, 14.8%]**이므로, 두 신뢰구간이 겹침\n",
        "\n",
        "겹치는 범위: 약 9.2% ~ 14.0%\n",
        "\n",
        "이 말은, 통계적으로 B그룹이 A그룹보다 명확히 좋다고 말하긴 어렵다는 뜻"
      ],
      "metadata": {
        "id": "pBi-q3vVKD9X"
      }
    },
    {
      "cell_type": "code",
      "source": [
        "# TODO: 그래프 그리기\n",
        "plt.figure(figsize=(10, 6))\n",
        "\n",
        "# TODO: 그룹명과 전환율 리스트 만들기\n",
        "groups = ['A그룹', 'B그룹']\n",
        "rates = [p_a, p_b]\n",
        "\n",
        "# TODO: 오차막대 크기 계산 (z_score * 표준오차)\n",
        "errors = [z_score * se_a, z_score * se_b]\n",
        "\n",
        "# TODO: 막대그래프 그리기\n",
        "# 힌트: plt.bar(x, height, yerr=오차막대, capsize=10, alpha=0.7)\n",
        "plt.bar(groups, rates, yerr=errors, capsize=10, alpha=0.7, color=['blue', 'red'])\n",
        "\n",
        "plt.ylabel('전환율')\n",
        "plt.title('그룹별 전환율과 95% 신뢰구간')\n",
        "plt.ylim(0, max(p_a, p_b) + 0.05)  # 보기 좋게 y축 설정\n",
        "plt.grid(axis='y', linestyle='--', alpha=0.5)\n",
        "plt.show()\n"
      ],
      "metadata": {
        "colab": {
          "base_uri": "https://localhost:8080/",
          "height": 545
        },
        "id": "DLGTFCKfKLdi",
        "outputId": "30a1dc14-f792-425f-d3f9-5ec4a69a330d"
      },
      "execution_count": 6,
      "outputs": [
        {
          "output_type": "display_data",
          "data": {
            "text/plain": [
              "<Figure size 1000x600 with 1 Axes>"
            ],
            "image/png": "[encoded data removed]"
          },
          "metadata": {}
        }
      ]
    },
    {
      "cell_type": "code",
      "source": [
        "# TODO: 전환율 차이 계산 (B - A)\n",
        "diff = p_b - p_a\n",
        "\n",
        "# TODO: 차이의 표준오차 계산\n",
        "# 힌트: 두 독립 비율 차이의 표준오차는 sqrt(se_a^2 + se_b^2)\n",
        "se_diff = np.sqrt(se_a**2 + se_b**2)\n",
        "\n",
        "print(f\"전환율 차이 (B-A): {diff:.3f}\")\n",
        "print(f\"차이의 표준오차: {se_diff:.3f}\")\n"
      ],
      "metadata": {
        "colab": {
          "base_uri": "https://localhost:8080/"
        },
        "id": "SIWa5MwvMAdv",
        "outputId": "fa3972e5-daa2-4e98-e195-79b3027228df"
      },
      "execution_count": 7,
      "outputs": [
        {
          "output_type": "stream",
          "name": "stdout",
          "text": [
            "전환율 차이 (B-A): -0.008\n",
            "차이의 표준오차: 0.020\n"
          ]
        }
      ]
    },
    {
      "cell_type": "markdown",
      "source": [
        "B그룹이 A그룹보다 0.8%p 낮은 전환율\n",
        "\n",
        "하지만 표준오차가 2.0%p로 꽤 크기 때문에,\n",
        "\n",
        "이 차이는 우연히 발생한 오차일 가능성도 높음을 시사\n",
        "\n",
        "아직은 통계적으로 유의한 차이인지 판단할 수 없음"
      ],
      "metadata": {
        "id": "YRW50Q8UPCbt"
      }
    },
    {
      "cell_type": "code",
      "source": [
        "# TODO: 차이의 신뢰구간 하한 계산\n",
        "ci_diff_lower = diff - 1.96 * se_diff\n",
        "\n",
        "# TODO: 차이의 신뢰구간 상한 계산\n",
        "ci_diff_upper = diff + 1.96 * se_diff\n",
        "\n",
        "print(f\"전환율 차이의 95% 신뢰구간: [{ci_diff_lower:.3f}, {ci_diff_upper:.3f}]\")\n",
        "\n",
        "# TODO: 0이 포함되는지 확인하기\n",
        "if ci_diff_lower > 0:\n",
        "    print(\"🎉 B가 A보다 확실히 좋습니다!\")\n",
        "elif ci_diff_upper < 0:\n",
        "    print(\"😢 A가 B보다 확실히 좋습니다.\")\n",
        "else:\n",
        "    print(\"🤔 확실하지 않습니다.\")\n"
      ],
      "metadata": {
        "colab": {
          "base_uri": "https://localhost:8080/"
        },
        "id": "Hxu6ar9yPHJ4",
        "outputId": "d1cddcc4-441e-4ded-a27e-4e6e7d01a5b9"
      },
      "execution_count": 8,
      "outputs": [
        {
          "output_type": "stream",
          "name": "stdout",
          "text": [
            "전환율 차이의 95% 신뢰구간: [-0.048, 0.032]\n",
            "🤔 확실하지 않습니다.\n"
          ]
        }
      ]
    },
    {
      "cell_type": "markdown",
      "source": [
        "전환율 차이의 신뢰구간이 0을 포함하므로,\n",
        "\n",
        "우연히 생긴 차이일 가능성이 큼\n",
        "\n",
        "B버튼(빨간색)이 A버튼(파란색)보다 통계적으로 명확하게 좋다고 볼 수 없음"
      ],
      "metadata": {
        "id": "dv-wyBPZPYtv"
      }
    },
    {
      "cell_type": "code",
      "source": [
        "# TODO: 보고서 완성하기\n",
        "print(\"📋 경영진 보고서\")\n",
        "print(\"=\"*50)\n",
        "print(f\"🔍 분석 결과:\")\n",
        "print(f\"   • A그룹 전환율: {p_a:.1%}\")\n",
        "print(f\"   • B그룹 전환율: {p_b:.1%}\")\n",
        "print(f\"   • 개선 효과: {diff:.1%}p\")\n",
        "print()\n",
        "print(f\"📊 통계적 신뢰도:\")\n",
        "print(f\"   • 개선 효과 범위: {ci_diff_lower:.1%}p ~ {ci_diff_upper:.1%}p\")\n",
        "print()\n",
        "print(\"💡 의사결정:\")\n",
        "\n",
        "# TODO: if문을 사용해서 권장사항 작성하기\n",
        "if ci_diff_lower > 0:\n",
        "    print(\"   ✅ 새 디자인(B) 도입을 권장합니다!\")\n",
        "else:\n",
        "    print(\"   ❌ 추가 데이터 수집이 필요합니다.\")\n"
      ],
      "metadata": {
        "colab": {
          "base_uri": "https://localhost:8080/"
        },
        "id": "g2Y8hQ2uPdQz",
        "outputId": "24cc1ae0-480f-4c17-d3d8-426a0f048135"
      },
      "execution_count": 9,
      "outputs": [
        {
          "output_type": "stream",
          "name": "stdout",
          "text": [
            "📋 경영진 보고서\n",
            "==================================================\n",
            "🔍 분석 결과:\n",
            "   • A그룹 전환율: 12.0%\n",
            "   • B그룹 전환율: 11.2%\n",
            "   • 개선 효과: -0.8%p\n",
            "\n",
            "📊 통계적 신뢰도:\n",
            "   • 개선 효과 범위: -4.8%p ~ 3.2%p\n",
            "\n",
            "💡 의사결정:\n",
            "   ❌ 추가 데이터 수집이 필요합니다.\n"
          ]
        }
      ]
    },
    {
      "cell_type": "markdown",
      "source": [
        "📋 경영진 보고서: 구매 버튼 색상 A/B 테스트 결과\n",
        "🛒 실험 배경\n",
        "기존 사이트(A): 파란색 구매 버튼\n",
        "\n",
        "새로운 디자인(B): 빨간색 구매 버튼\n",
        "\n",
        "목표: 전환율(구매 비율) 향상 여부 판단\n",
        "\n",
        "🔍 실험 결과 요약\n",
        "구분\t전환율\t표준오차 (±)\n",
        "A그룹 (기존)\t12.0%\t±1.5%\n",
        "B그룹 (신규)\t11.2%\t±1.4%\n",
        "\n",
        "전환율 차이 (B – A): –0.8%p\n",
        "\n",
        "📊 통계적 신뢰도\n",
        "전환율 차이의 95% 신뢰구간: [–4.8%p, +3.2%p]\n",
        "\n",
        "신뢰구간에 0이 포함되므로, 두 그룹 간 전환율 차이는 통계적으로 유의하지 않음\n",
        "\n",
        "💡 의사결정 권고\n",
        "판단 항목\t내용\n",
        "효과 검증\tB그룹(빨간 버튼)은 A그룹보다 전환율이 낮고, 차이도 통계적으로 유의하지 않음\n",
        "결론\tB 디자인 도입을 권장하지 않음\n",
        "향후 조치\t📌 추가 A/B 테스트 또는 표본 수 확대 필요\n",
        "\n",
        "📎 참고 사항\n",
        "신뢰수준 95% 기준이며, 해석에 있어 비즈니스 컨텍스트(기존 UI 불만 여부, 실험 기간 등)와 병행 고려 필요\n",
        "\n",
        "사용자 수 A그룹/B그룹 각 500명으로 표본은 중간 규모"
      ],
      "metadata": {
        "id": "Hd0pJmlIRuQV"
      }
    },
    {
      "cell_type": "code",
      "source": [],
      "metadata": {
        "id": "e0AeSFDVRxoN"
      },
      "execution_count": null,
      "outputs": []
    },
    {
      "cell_type": "markdown",
      "source": [
        "###📋 미션 2: 연령대별 구매 분석 (t-검정 마스터하기!) 👥"
      ],
      "metadata": {
        "id": "tsIz-MRsRzub"
      }
    },
    {
      "cell_type": "code",
      "source": [
        "# 온라인 쇼핑몰의 구매 데이터\n",
        "np.random.seed(789)\n",
        "ages = np.random.randint(20, 60, 100)\n",
        "purchase_amounts = 50 + 2*ages + np.random.normal(0, 20, 100)\n",
        "\n",
        "print(\"📊 구매 데이터 미리보기\")\n",
        "print(f\"연령 범위: {ages.min()}세 ~ {ages.max()}세\")\n",
        "print(f\"구매금액 범위: {purchase_amounts.min():.0f}만원 ~ {purchase_amounts.max():.0f}만원\")\n",
        "print(f\"평균 구매금액: {purchase_amounts.mean():.1f}만원\")\n"
      ],
      "metadata": {
        "colab": {
          "base_uri": "https://localhost:8080/"
        },
        "id": "QOn0g_UdR905",
        "outputId": "95666b78-db12-4996-caff-8b094666fedb"
      },
      "execution_count": 10,
      "outputs": [
        {
          "output_type": "stream",
          "name": "stdout",
          "text": [
            "📊 구매 데이터 미리보기\n",
            "연령 범위: 20세 ~ 59세\n",
            "구매금액 범위: 39만원 ~ 208만원\n",
            "평균 구매금액: 130.1만원\n"
          ]
        }
      ]
    },
    {
      "cell_type": "code",
      "source": [
        "# TODO: 표본 평균 계산\n",
        "sample_mean = purchase_amounts.mean()\n",
        "\n",
        "# TODO: 표본 표준편차 계산\n",
        "sample_std = purchase_amounts.std(ddof=1)  # 자유도 1 설정\n",
        "\n",
        "# TODO: 표본 크기 계산\n",
        "n = len(purchase_amounts)\n",
        "\n",
        "# TODO: 비교할 기준값 설정 (업계 기준 150만원)\n",
        "standard_value = 150\n",
        "\n",
        "print(f\"표본 평균: {sample_mean:.2f}만원\")\n",
        "print(f\"표본 표준편차: {sample_std:.2f}만원\")\n",
        "print(f\"표본 크기: {n}명\")\n",
        "print(f\"비교 기준값: {standard_value}만원\")\n"
      ],
      "metadata": {
        "colab": {
          "base_uri": "https://localhost:8080/"
        },
        "id": "XAeHQGquSRjl",
        "outputId": "58eabe67-4521-4955-ea95-b89a67db1421"
      },
      "execution_count": 11,
      "outputs": [
        {
          "output_type": "stream",
          "name": "stdout",
          "text": [
            "표본 평균: 130.09만원\n",
            "표본 표준편차: 33.90만원\n",
            "표본 크기: 100명\n",
            "비교 기준값: 150만원\n"
          ]
        }
      ]
    },
    {
      "cell_type": "markdown",
      "source": [
        "현재 우리 고객의 평균 구매금액은 130.09만원으로 업계 기준(150만원)보다 약 19.9만원 낮음"
      ],
      "metadata": {
        "id": "1ouy61B0SeZ1"
      }
    },
    {
      "cell_type": "code",
      "source": [
        "# TODO: t-통계량 공식 사용하기\n",
        "# t = (표본평균 - 기준값) / (표준편차 / sqrt(n))\n",
        "t_stat = (sample_mean - standard_value) / (sample_std / np.sqrt(n))\n",
        "\n",
        "print(f\"직접 계산한 t-통계량: {t_stat:.3f}\")\n",
        "\n",
        "# 비교를 위해 scipy로도 계산해보기\n",
        "from scipy.stats import ttest_1samp\n",
        "t_stat_scipy, p_value = ttest_1samp(purchase_amounts, standard_value)\n",
        "print(f\"scipy로 계산한 t-통계량: {t_stat_scipy:.3f}\")\n",
        "print(f\"p-value: {p_value:.4f}\")\n"
      ],
      "metadata": {
        "colab": {
          "base_uri": "https://localhost:8080/"
        },
        "id": "U5zotXtjSZ2k",
        "outputId": "a022bc46-1dd2-4c69-8e3b-672d21b63c95"
      },
      "execution_count": 12,
      "outputs": [
        {
          "output_type": "stream",
          "name": "stdout",
          "text": [
            "직접 계산한 t-통계량: -5.874\n",
            "scipy로 계산한 t-통계량: -5.874\n",
            "p-value: 0.0000\n"
          ]
        }
      ]
    },
    {
      "cell_type": "markdown",
      "source": [
        "t-통계량이 음수이고 매우 작다는 것은,\n",
        "→ 표본 평균이 기준값보다 유의하게 낮다는 의미\n",
        "\n",
        "p-value < 0.05 → 귀무가설 기각!\n",
        "\n",
        "\"우리 고객의 구매 평균은 업계 기준 150만원과 다르지 않다\"는 가설은 기각\n",
        "\n",
        "이 경우는 평균이 더 작으므로,\n",
        "→ \"우리 고객은 업계 평균보다 구매를 적게 한다\"고 결론"
      ],
      "metadata": {
        "id": "CazQZA5XSu17"
      }
    },
    {
      "cell_type": "code",
      "source": [
        "# TODO: 유의수준 설정\n",
        "alpha = 0.05\n",
        "\n",
        "print(\"🎯 결과 해석\")\n",
        "\n",
        "# TODO: p-value와 alpha 비교하기\n",
        "if p_value < alpha:\n",
        "    print(f\"✅ p-value ({p_value:.4f}) < α ({alpha})\")\n",
        "    print(\"→ 귀무가설 기각! 업계 기준과 유의하게 다릅니다.\")\n",
        "\n",
        "    # TODO: 평균이 더 큰지 작은지 확인하기\n",
        "    if sample_mean > standard_value:\n",
        "        print(\"→ 우리 고객들이 업계 평균보다 더 많이 구매합니다! 🎉\")\n",
        "    else:\n",
        "        print(\"→ 우리 고객들이 업계 평균보다 적게 구매합니다. 😅\")\n",
        "else:\n",
        "    print(f\"❌ p-value ({p_value:.4f}) ≥ α ({alpha})\")\n",
        "    print(\"→ 업계 기준과 유의한 차이가 없습니다.\")\n"
      ],
      "metadata": {
        "colab": {
          "base_uri": "https://localhost:8080/"
        },
        "id": "gsBrx6tfS6lO",
        "outputId": "00f595ad-ed15-46e2-dc6d-c6098b8e6ab9"
      },
      "execution_count": 14,
      "outputs": [
        {
          "output_type": "stream",
          "name": "stdout",
          "text": [
            "🎯 결과 해석\n",
            "✅ p-value (0.0000) < α (0.05)\n",
            "→ 귀무가설 기각! 업계 기준과 유의하게 다릅니다.\n",
            "→ 우리 고객들이 업계 평균보다 적게 구매합니다. 😅\n"
          ]
        }
      ]
    },
    {
      "cell_type": "markdown",
      "source": [
        "업계 평균(150만원)보다 유의하게 낮은 구매액이라는 통계적 증거가 있음.\n",
        "\n",
        "즉, 이 차이는 단순 우연이 아니라 실제 차이라고 볼 수 있음"
      ],
      "metadata": {
        "id": "fCX_iPa7TCMm"
      }
    },
    {
      "cell_type": "code",
      "source": [
        "# TODO: 젊은층 데이터 필터링 (20-39세)\n",
        "young_mask = (ages >= 20) & (ages <= 39)\n",
        "group1_purchases = purchase_amounts[young_mask]\n",
        "\n",
        "# TODO: 중년층 데이터 필터링 (40-59세)\n",
        "middle_mask = (ages >= 40) & (ages <= 59)\n",
        "group2_purchases = purchase_amounts[middle_mask]\n",
        "\n",
        "print(\"👥 그룹 나누기 결과\")\n",
        "print(f\"젊은층 (20-39세): {len(group1_purchases)}명\")\n",
        "print(f\"중년층 (40-59세): {len(group2_purchases)}명\")\n"
      ],
      "metadata": {
        "colab": {
          "base_uri": "https://localhost:8080/"
        },
        "id": "v_vdQnNETOEp",
        "outputId": "d11facc1-c2f7-43ed-dde1-3993483ff240"
      },
      "execution_count": 15,
      "outputs": [
        {
          "output_type": "stream",
          "name": "stdout",
          "text": [
            "👥 그룹 나누기 결과\n",
            "젊은층 (20-39세): 47명\n",
            "중년층 (40-59세): 53명\n"
          ]
        }
      ]
    },
    {
      "cell_type": "code",
      "source": [
        "# TODO: 각 그룹의 평균 계산\n",
        "group1_mean = group1_purchases.mean()\n",
        "group2_mean = group2_purchases.mean()\n",
        "\n",
        "# TODO: 각 그룹의 표준편차 계산\n",
        "group1_std = group1_purchases.std()\n",
        "group2_std = group2_purchases.std()\n",
        "\n",
        "print(\"📊 그룹별 기술통계\")\n",
        "print(f\"젊은층 평균: {group1_mean:.1f}만원 (표준편차: {group1_std:.1f})\")\n",
        "print(f\"중년층 평균: {group2_mean:.1f}만원 (표준편차: {group2_std:.1f})\")\n",
        "\n",
        "# TODO: 평균 차이 계산\n",
        "diff = group2_mean - group1_mean\n",
        "print(f\"평균 차이: {diff:.1f}만원\")\n"
      ],
      "metadata": {
        "colab": {
          "base_uri": "https://localhost:8080/"
        },
        "id": "UtuzQeNbTZzQ",
        "outputId": "8d1c9887-6e47-4e4e-cfbc-170aee6a8a6d"
      },
      "execution_count": 16,
      "outputs": [
        {
          "output_type": "stream",
          "name": "stdout",
          "text": [
            "📊 그룹별 기술통계\n",
            "젊은층 평균: 106.4만원 (표준편차: 25.0)\n",
            "중년층 평균: 151.1만원 (표준편차: 25.6)\n",
            "평균 차이: 44.6만원\n"
          ]
        }
      ]
    },
    {
      "cell_type": "markdown",
      "source": [
        "중년층은 젊은층보다 평균적으로 약 45만원 더 많이 구매하고 있으며,\n",
        "\n",
        "두 그룹 모두 표준편차가 유사한 수준이므로,\n",
        "→ 이 차이가 우연이 아니라 실제 차이일 수 있다는 신호"
      ],
      "metadata": {
        "id": "UNPiWPoZT5s-"
      }
    },
    {
      "cell_type": "code",
      "source": [
        "from scipy.stats import ttest_ind\n",
        "\n",
        "# TODO: 독립표본 t-검정 실행\n",
        "t_stat, p_value = ttest_ind(group1_purchases, group2_purchases)\n",
        "\n",
        "print(\"🧮 t-검정 결과\")\n",
        "print(f\"t-통계량: {t_stat:.3f}\")\n",
        "print(f\"p-value: {p_value:.4f}\")\n",
        "\n",
        "# TODO: 결과 해석하기\n",
        "alpha = 0.05\n",
        "print(\"🎯 비즈니스 해석\")\n",
        "\n",
        "if p_value < alpha:\n",
        "    print(\"✅ 통계적으로 유의한 차이가 있습니다!\")\n",
        "\n",
        "    if group2_mean > group1_mean:\n",
        "        print(\"→ 중년층이 젊은층보다 더 많이 구매합니다!\")\n",
        "    else:\n",
        "        print(\"→ 젊은층이 중년층보다 더 많이 구매합니다!\")\n",
        "else:\n",
        "    print(\"❌ 통계적으로 유의한 차이가 없습니다.\")\n"
      ],
      "metadata": {
        "colab": {
          "base_uri": "https://localhost:8080/"
        },
        "id": "7tztxWnET7NC",
        "outputId": "4f7fe1ac-0f11-4f89-8863-a29121779618"
      },
      "execution_count": 17,
      "outputs": [
        {
          "output_type": "stream",
          "name": "stdout",
          "text": [
            "🧮 t-검정 결과\n",
            "t-통계량: -8.709\n",
            "p-value: 0.0000\n",
            "🎯 비즈니스 해석\n",
            "✅ 통계적으로 유의한 차이가 있습니다!\n",
            "→ 중년층이 젊은층보다 더 많이 구매합니다!\n"
          ]
        }
      ]
    },
    {
      "cell_type": "markdown",
      "source": [
        "p-value = 0.0000 → 매우 작음 → 연령대에 따른 평균 구매 차이는 우연이 아님\n",
        "\n",
        "t-통계량이 **음수(-8.709)**인 이유는 계산 방식이 group1(젊은층) - group2(중년층)으로 이루어졌기 때문\n",
        "→ 결과적으로 중년층 평균이 더 큼"
      ],
      "metadata": {
        "id": "xam1PJIIUJo8"
      }
    },
    {
      "cell_type": "code",
      "source": [
        "from scipy.stats import levene\n",
        "\n",
        "# TODO: 분산 직접 비교하기\n",
        "var1 = group1_purchases.var(ddof=1)\n",
        "var2 = group2_purchases.var(ddof=1)\n",
        "\n",
        "print(\"📊 분산 비교\")\n",
        "print(f\"젊은층 분산: {var1:.1f}\")\n",
        "print(f\"중년층 분산: {var2:.1f}\")\n",
        "\n",
        "# TODO: Levene 검정 실행하기\n",
        "levene_stat, levene_p = levene(group1_purchases, group2_purchases)\n",
        "\n",
        "print(\"🧪 Levene 등분산성 검정\")\n",
        "print(f\"p-value: {levene_p:.4f}\")\n",
        "\n",
        "# TODO: 등분산성 판단하기\n",
        "if levene_p >= 0.05:\n",
        "    print(\"✅ 등분산성 가정 만족\")\n",
        "else:\n",
        "    print(\"❌ 등분산성 가정 위배\")\n"
      ],
      "metadata": {
        "colab": {
          "base_uri": "https://localhost:8080/"
        },
        "id": "GgNxoVtEUJGy",
        "outputId": "63938e87-fd7f-4693-d1bb-4d3edff910eb"
      },
      "execution_count": 18,
      "outputs": [
        {
          "output_type": "stream",
          "name": "stdout",
          "text": [
            "📊 분산 비교\n",
            "젊은층 분산: 637.1\n",
            "중년층 분산: 669.5\n",
            "🧪 Levene 등분산성 검정\n",
            "p-value: 0.8106\n",
            "✅ 등분산성 가정 만족\n"
          ]
        }
      ]
    },
    {
      "cell_type": "markdown",
      "source": [
        "Levene 검정 결과 p-value ≥ 0.05이므로,\n",
        "→ 두 집단은 분산이 같다고 볼 수 있음 (등분산성 가정 만족)\n",
        "\n",
        "따라서 앞서 진행한 ttest_ind()는 기본 옵션 (equal_var=True) 을 그대로 사용해도 적절"
      ],
      "metadata": {
        "id": "9d5ffdNNUdBa"
      }
    },
    {
      "cell_type": "code",
      "source": [],
      "metadata": {
        "id": "MLyyaBO1UfDZ"
      },
      "execution_count": null,
      "outputs": []
    },
    {
      "cell_type": "markdown",
      "source": [
        "###📋 미션 3: 직원 만족도 종합 분석 🏢"
      ],
      "metadata": {
        "id": "kStc-FkOUiFF"
      }
    },
    {
      "cell_type": "code",
      "source": [
        "# 직원 만족도 종합 데이터 생성\n",
        "np.random.seed(2024)\n",
        "n = 250\n",
        "\n",
        "data_hr = {\n",
        "    '연봉': np.random.lognormal(np.log(50000), 0.3, n),\n",
        "    '근무연수': np.random.exponential(3, n),\n",
        "    '부서': np.random.choice(['영업', '개발', '마케팅', '인사'], n, p=[0.3, 0.4, 0.2, 0.1]),\n",
        "    '교육시간': np.random.gamma(2, 10, n),\n",
        "    '직급': np.random.choice(['사원', '대리', '과장', '부장'], n, p=[0.4, 0.3, 0.2, 0.1])\n",
        "}\n",
        "\n",
        "df_hr = pd.DataFrame(data_hr)\n",
        "\n",
        "# 만족도 점수 (1-10점) 생성\n",
        "satisfaction_base = (\n",
        "    df_hr['연봉']/10000 * 0.8 +\n",
        "    df_hr['근무연수'] * 0.3 +\n",
        "    df_hr['교육시간'] * 0.1\n",
        ")\n",
        "\n",
        "dept_effect = df_hr['부서'].map({'영업': -0.5, '개발': 0.8, '마케팅': 0.3, '인사': 0.0})\n",
        "rank_effect = df_hr['직급'].map({'사원': 0, '대리': 0.5, '과장': 1.0, '부장': 1.5})\n",
        "\n",
        "satisfaction = satisfaction_base + dept_effect + rank_effect + np.random.normal(0, 0.8, n)\n",
        "satisfaction = np.clip(satisfaction, 1, 10)\n",
        "\n",
        "# 이직 의향\n",
        "turnover_prob = 1 / (1 + np.exp(satisfaction - 5))\n",
        "turnover_intent = np.random.binomial(1, turnover_prob, n)\n",
        "\n",
        "df_hr['만족도'] = satisfaction.round(1)\n",
        "df_hr['이직의향'] = turnover_intent\n",
        "\n",
        "print(\"📊 직원 만족도 데이터 (처음 5개 행)\")\n",
        "print(df_hr.head())\n"
      ],
      "metadata": {
        "colab": {
          "base_uri": "https://localhost:8080/"
        },
        "id": "_3C464ssUkhu",
        "outputId": "06dcaa38-b913-472e-88f8-93fd2a7cede0"
      },
      "execution_count": 19,
      "outputs": [
        {
          "output_type": "stream",
          "name": "stdout",
          "text": [
            "📊 직원 만족도 데이터 (처음 5개 행)\n",
            "             연봉      근무연수   부서       교육시간  직급   만족도  이직의향\n",
            "0  82470.215328  5.843045   개발   4.431883  과장  10.0     0\n",
            "1  62378.915363  1.803688   개발   1.373603  대리   8.2     0\n",
            "2  47066.508609  0.211051  마케팅  17.196300  과장   7.6     0\n",
            "3  47786.798588  4.785220   개발  49.198119  과장  10.0     0\n",
            "4  65814.392648  2.060981   영업  18.363062  사원   9.1     0\n"
          ]
        }
      ]
    },
    {
      "cell_type": "code",
      "source": [
        "# TODO: 숫자형 변수들만 선별하기\n",
        "numeric_cols = ['연봉', '근무연수', '교육시간', '만족도', '이직의향']\n",
        "correlation_data = df_hr[numeric_cols]\n",
        "\n",
        "# TODO: 상관계수 매트릭스 계산하기\n",
        "correlation_matrix = correlation_data.corr()\n",
        "\n",
        "print(\"📊 상관계수 매트릭스\")\n",
        "print(correlation_matrix.round(3))\n"
      ],
      "metadata": {
        "colab": {
          "base_uri": "https://localhost:8080/"
        },
        "id": "LfiwCUEIU2w8",
        "outputId": "9baaf3da-47e6-40fb-d72c-be69682aecb3"
      },
      "execution_count": 21,
      "outputs": [
        {
          "output_type": "stream",
          "name": "stdout",
          "text": [
            "📊 상관계수 매트릭스\n",
            "         연봉   근무연수   교육시간    만족도   이직의향\n",
            "연봉    1.000  0.101 -0.003  0.567 -0.265\n",
            "근무연수  0.101  1.000 -0.062  0.389 -0.130\n",
            "교육시간 -0.003 -0.062  1.000  0.484 -0.276\n",
            "만족도   0.567  0.389  0.484  1.000 -0.534\n",
            "이직의향 -0.265 -0.130 -0.276 -0.534  1.000\n"
          ]
        }
      ]
    },
    {
      "cell_type": "markdown",
      "source": [
        "연봉이 만족도에 가장 강하게 연결되어 있음\n",
        "\n",
        "그 다음은 교육시간, 이어서 근무연수\n",
        "\n",
        "만족도가 낮을수록 이직 가능성이 뚜렷하게 증가하는 구조"
      ],
      "metadata": {
        "id": "eQkp6ZWJVISQ"
      }
    },
    {
      "cell_type": "code",
      "source": [
        "# TODO: 만족도와의 상관관계만 추출하기\n",
        "satisfaction_corr = correlation_matrix['만족도'].sort_values(ascending=False)\n",
        "\n",
        "print(\"🎯 만족도와의 상관관계 (높은 순)\")\n",
        "\n",
        "# TODO: for문으로 각 변수별 상관관계 출력하기\n",
        "for var, corr in satisfaction_corr.items():\n",
        "    if var != '만족도':  # 자기 자신 제외\n",
        "        # TODO: 상관관계 강도 판단\n",
        "        if abs(corr) > 0.5:\n",
        "            strength = \"강한\"\n",
        "        elif abs(corr) > 0.3:\n",
        "            strength = \"중간\"\n",
        "        else:\n",
        "            strength = \"약한\"\n",
        "\n",
        "        direction = \"양의\" if corr > 0 else \"음의\"\n",
        "        print(f\"• {var}: {corr:.3f} ({strength} {direction} 상관관계)\")\n"
      ],
      "metadata": {
        "colab": {
          "base_uri": "https://localhost:8080/"
        },
        "id": "bNjZpJNnU2iy",
        "outputId": "91c1a821-87e6-4342-c615-b66763d75782"
      },
      "execution_count": 22,
      "outputs": [
        {
          "output_type": "stream",
          "name": "stdout",
          "text": [
            "🎯 만족도와의 상관관계 (높은 순)\n",
            "• 연봉: 0.567 (강한 양의 상관관계)\n",
            "• 교육시간: 0.484 (중간 양의 상관관계)\n",
            "• 근무연수: 0.389 (중간 양의 상관관계)\n",
            "• 이직의향: -0.534 (강한 음의 상관관계)\n"
          ]
        }
      ]
    },
    {
      "cell_type": "markdown",
      "source": [
        "✅ 연봉이 만족도에 가장 큰 영향\n",
        "\n",
        "✅ 교육시간, 근무연수도 중요 요인\n",
        "\n",
        "🚨 이직의향은 만족도와 강한 음의 상관 → 예측 모델에 매우 유용"
      ],
      "metadata": {
        "id": "mZg_aFSAVZel"
      }
    },
    {
      "cell_type": "code",
      "source": [
        "import seaborn as sns\n",
        "import matplotlib.pyplot as plt\n",
        "\n",
        "# TODO: 히트맵 그리기\n",
        "plt.figure(figsize=(10, 8))\n",
        "\n",
        "# TODO: seaborn heatmap 사용하기\n",
        "sns.heatmap(\n",
        "    correlation_matrix,\n",
        "    annot=True,           # 상관계수 숫자 표시\n",
        "    cmap='RdBu_r',        # 색상 (양/음 구분됨)\n",
        "    center=0,             # 0을 중심으로 대칭\n",
        "    fmt='.3f'             # 소수점 3자리 표시\n",
        ")\n",
        "\n",
        "plt.title('📊 변수 간 상관관계 히트맵')\n",
        "plt.tight_layout()\n",
        "plt.show()\n"
      ],
      "metadata": {
        "colab": {
          "base_uri": "https://localhost:8080/",
          "height": 807
        },
        "id": "lwBW2985Vax1",
        "outputId": "58f585dc-c168-4f11-c535-e9c604e45513"
      },
      "execution_count": 23,
      "outputs": [
        {
          "output_type": "display_data",
          "data": {
            "text/plain": [
              "<Figure size 1000x800 with 2 Axes>"
            ],
            "image/png": "[encoded data removed]"
          },
          "metadata": {}
        }
      ]
    },
    {
      "cell_type": "markdown",
      "source": [
        "🔥 가장 눈에 띄는 관계\n",
        "만족도와 이직의향: 짙은 파랑 (-0.534) → 강한 음의 상관관계\n",
        "\n",
        "만족도가 낮을수록 이직의향이 높음 (예측 모델에서 매우 중요!)\n",
        "\n",
        "만족도와 연봉: 짙은 빨강 (+0.567) → 강한 양의 상관관계\n",
        "\n",
        "연봉이 높을수록 만족도 상승\n",
        "\n",
        "만족도와 교육시간: 중간 수준의 빨강 (+0.484)\n",
        "\n",
        "교육 많이 받은 직원이 만족도가 높은 경향\n",
        "\n",
        "참고로…\n",
        "근무연수는 전체적으로 다른 변수들과 약~중간 정도의 상관만 보임\n",
        "\n",
        "교육시간과 연봉, 근무연수 간에는 거의 무관한 관계 (연한 색)\n",
        "\n",
        "💡 결론\n",
        "만족도 예측을 위해선\n",
        "연봉, 교육시간, 이직의향, 근무연수를 우선 고려하면 효과적"
      ],
      "metadata": {
        "id": "C86YWFNJVwIQ"
      }
    },
    {
      "cell_type": "code",
      "source": [
        "# TODO: 부서별 그룹화해서 평균 계산하기\n",
        "dept_summary = df_hr.groupby('부서')['만족도'].mean()\n",
        "\n",
        "print(\"🏢 부서별 평균 만족도\")\n",
        "print(dept_summary.round(2))\n",
        "\n",
        "# TODO: 부서별 이직의향도 계산하기\n",
        "dept_turnover = df_hr.groupby('부서')['이직의향'].mean()\n",
        "\n",
        "print(\"\\n🏢 부서별 이직의향\")\n",
        "print(dept_turnover.round(3))\n",
        "\n",
        "# TODO: for문으로 부서별 상세 분석 출력하기\n",
        "print(\"\\n📋 부서별 상세 분석\")\n",
        "for dept in df_hr['부서'].unique():\n",
        "    # 해당 부서 데이터 필터링\n",
        "    dept_data = df_hr[df_hr['부서'] == dept]\n",
        "\n",
        "    satisfaction_avg = dept_data['만족도'].mean()\n",
        "    turnover_avg = dept_data['이직의향'].mean()\n",
        "\n",
        "    print(f\"{dept}부: 만족도 {satisfaction_avg:.1f}점, 이직의향 {turnover_avg:.1%}\")\n"
      ],
      "metadata": {
        "colab": {
          "base_uri": "https://localhost:8080/"
        },
        "id": "_sYPqoW8Vtxk",
        "outputId": "f5ff9059-4817-4545-82ad-44c732da9a12"
      },
      "execution_count": 24,
      "outputs": [
        {
          "output_type": "stream",
          "name": "stdout",
          "text": [
            "🏢 부서별 평균 만족도\n",
            "부서\n",
            "개발     7.76\n",
            "마케팅    7.82\n",
            "영업     6.96\n",
            "인사     6.93\n",
            "Name: 만족도, dtype: float64\n",
            "\n",
            "🏢 부서별 이직의향\n",
            "부서\n",
            "개발     0.139\n",
            "마케팅    0.208\n",
            "영업     0.276\n",
            "인사     0.278\n",
            "Name: 이직의향, dtype: float64\n",
            "\n",
            "📋 부서별 상세 분석\n",
            "개발부: 만족도 7.8점, 이직의향 13.9%\n",
            "마케팅부: 만족도 7.8점, 이직의향 20.8%\n",
            "영업부: 만족도 7.0점, 이직의향 27.6%\n",
            "인사부: 만족도 6.9점, 이직의향 27.8%\n"
          ]
        }
      ]
    },
    {
      "cell_type": "markdown",
      "source": [
        "개발부는 연봉과 교육이 잘 맞춰졌을 가능성이 높음\n",
        "\n",
        "영업부와 인사부는 조직문화나 보상/승진 불만족 가능성이 있음 → 심층 인터뷰 필요\n",
        "\n",
        "이직률은 만족도와 강한 음의 상관관계 (-0.534) 를 다시 한 번 보여줌"
      ],
      "metadata": {
        "id": "IXYxcLIUWA9t"
      }
    },
    {
      "cell_type": "code",
      "source": [
        "# TODO: 부서를 더미 변수로 변환하기\n",
        "dept_dummies = pd.get_dummies(df_hr['부서'], prefix='부서')\n",
        "\n",
        "# TODO: 직급을 더미 변수로 변환하기\n",
        "rank_dummies = pd.get_dummies(df_hr['직급'], prefix='직급')\n",
        "\n",
        "# TODO: 기준 카테고리 제거하기 (다중공선성 방지)\n",
        "# 기준: '부서_인사', '직급_사원'\n",
        "dept_dummies = dept_dummies.drop('부서_인사', axis=1)\n",
        "rank_dummies = rank_dummies.drop('직급_사원', axis=1)\n",
        "\n",
        "# 더미 변수 생성 결과 출력\n",
        "print(\"생성된 더미 변수들:\")\n",
        "print(\"부서:\", list(dept_dummies.columns))\n",
        "print(\"직급:\", list(rank_dummies.columns))\n"
      ],
      "metadata": {
        "colab": {
          "base_uri": "https://localhost:8080/"
        },
        "id": "Xq8C_SHQWDyP",
        "outputId": "0911b880-78d2-4e08-91c8-fd5a3e3623d7"
      },
      "execution_count": 25,
      "outputs": [
        {
          "output_type": "stream",
          "name": "stdout",
          "text": [
            "생성된 더미 변수들:\n",
            "부서: ['부서_개발', '부서_마케팅', '부서_영업']\n",
            "직급: ['직급_과장', '직급_대리', '직급_부장']\n"
          ]
        }
      ]
    },
    {
      "cell_type": "code",
      "source": [
        "from sklearn.linear_model import LinearRegression\n",
        "from sklearn.metrics import r2_score\n",
        "\n",
        "# TODO: 독립변수 데이터프레임 만들기\n",
        "X_vars = pd.concat([\n",
        "    df_hr[['연봉', '근무연수', '교육시간']],\n",
        "    dept_dummies,\n",
        "    rank_dummies\n",
        "], axis=1)\n",
        "\n",
        "# TODO: 종속변수 설정하기\n",
        "y_var = df_hr['만족도']\n",
        "\n",
        "# 출력 확인\n",
        "print(\"🔧 회귀분석 변수 구성\")\n",
        "print(f\"독립변수 개수: {len(X_vars.columns)}개\")\n",
        "print(f\"독립변수: {list(X_vars.columns)}\")\n",
        "print(f\"종속변수: 만족도\")\n"
      ],
      "metadata": {
        "colab": {
          "base_uri": "https://localhost:8080/"
        },
        "id": "Ov9UU61jWbTI",
        "outputId": "05f314bc-4e04-4254-a03d-4052545b5a7b"
      },
      "execution_count": 26,
      "outputs": [
        {
          "output_type": "stream",
          "name": "stdout",
          "text": [
            "🔧 회귀분석 변수 구성\n",
            "독립변수 개수: 9개\n",
            "독립변수: ['연봉', '근무연수', '교육시간', '부서_개발', '부서_마케팅', '부서_영업', '직급_과장', '직급_대리', '직급_부장']\n",
            "종속변수: 만족도\n"
          ]
        }
      ]
    },
    {
      "cell_type": "code",
      "source": [
        "# TODO: 회귀모델 생성 및 학습하기\n",
        "model = LinearRegression()\n",
        "model.fit(X_vars, y_var)\n",
        "\n",
        "# TODO: 예측값 계산하기\n",
        "y_pred = model.predict(X_vars)\n",
        "\n",
        "# TODO: R² 계산하기\n",
        "r2 = r2_score(y_var, y_pred)\n",
        "\n",
        "print(\"📊 다중회귀분석 결과\")\n",
        "print(f\"R² (설명력): {r2:.3f} ({r2*100:.1f}%)\")\n"
      ],
      "metadata": {
        "colab": {
          "base_uri": "https://localhost:8080/"
        },
        "id": "S2EcSxRMWpB5",
        "outputId": "69fe13f5-61c0-462b-a4fa-ab39b9945082"
      },
      "execution_count": 28,
      "outputs": [
        {
          "output_type": "stream",
          "name": "stdout",
          "text": [
            "📊 다중회귀분석 결과\n",
            "R² (설명력): 0.800 (80.0%)\n"
          ]
        }
      ]
    },
    {
      "cell_type": "markdown",
      "source": [
        "R² = 0.800 (80.0%) 는 매우 높은 설명력\n",
        "즉, 회귀모델이 직원 만족도의 80%를 설명할 수 있다는 뜻"
      ],
      "metadata": {
        "id": "NRZzTMJnWvxz"
      }
    },
    {
      "cell_type": "code",
      "source": [
        "# TODO: 회귀계수를 데이터프레임으로 정리하기\n",
        "coefficients = pd.DataFrame({\n",
        "    '변수': X_vars.columns,\n",
        "    '계수': model.coef_,\n",
        "    '절댓값': np.abs(model.coef_)\n",
        "})\n",
        "\n",
        "# TODO: 절댓값 기준으로 정렬하기\n",
        "coefficients = coefficients.sort_values('절댓값', ascending=False)\n",
        "\n",
        "# 출력 상위 5개\n",
        "print(\"🔍 회귀계수 분석 (영향력 순)\")\n",
        "print(coefficients.head(5))\n",
        "\n",
        "# TODO: 가장 영향력이 큰 변수 찾기\n",
        "most_important = coefficients.iloc[0]\n",
        "print(f\"\\n가장 영향력이 큰 변수: {most_important['변수']} (계수: {most_important['계수']:.3f})\")\n"
      ],
      "metadata": {
        "colab": {
          "base_uri": "https://localhost:8080/"
        },
        "id": "Cs7X_3SsW0Qj",
        "outputId": "4d2f49b7-d2d7-4f70-972b-63af39aaece9"
      },
      "execution_count": 29,
      "outputs": [
        {
          "output_type": "stream",
          "name": "stdout",
          "text": [
            "🔍 회귀계수 분석 (영향력 순)\n",
            "      변수        계수       절댓값\n",
            "8  직급_부장  1.393631  1.393631\n",
            "6  직급_과장  0.764017  0.764017\n",
            "3  부서_개발  0.497000  0.497000\n",
            "5  부서_영업 -0.496424  0.496424\n",
            "7  직급_대리  0.325535  0.325535\n",
            "\n",
            "가장 영향력이 큰 변수: 직급_부장 (계수: 1.394)\n"
          ]
        }
      ]
    },
    {
      "cell_type": "markdown",
      "source": [
        "직급이 높을수록 만족도가 유의하게 상승.\n",
        " 특히 부장 > 과장 > 대리 순으로 강한 정(+)의 영향.\n",
        "\n",
        "부서별 차이도 뚜렷:\n",
        "\n",
        "개발부는 인사부보다 더 만족도가 높고,\n",
        "\n",
        "영업부는 인사부보다 낮음.\n",
        "\n",
        "연봉, 근무연수, 교육시간 등 수치형 변수도 영향을 주지만, 범주형(더미) 변수 중에선 직급이 가장 중요."
      ],
      "metadata": {
        "id": "u99DGbM-XEQA"
      }
    },
    {
      "cell_type": "code",
      "source": [
        "from sklearn.linear_model import LogisticRegression\n",
        "from sklearn.metrics import classification_report, confusion_matrix\n",
        "\n",
        "# TODO: 로지스틱 회귀용 독립변수와 종속변수 설정하기\n",
        "X_logistic = X_vars  # 앞서 회귀에 사용한 것과 동일\n",
        "y_logistic = df_hr['이직의향']\n",
        "\n",
        "# TODO: 현재 이직 의향 현황 파악하기\n",
        "turnover_summary = df_hr['이직의향'].value_counts()\n",
        "turnover_rate = df_hr['이직의향'].mean()\n",
        "\n",
        "print(\"📊 현재 이직 의향 현황\")\n",
        "print(f\"이직 의향 있음: {turnover_summary[1]}명 ({turnover_rate:.1%})\")\n",
        "print(f\"이직 의향 없음: {turnover_summary[0]}명 ({1 - turnover_rate:.1%})\")\n"
      ],
      "metadata": {
        "colab": {
          "base_uri": "https://localhost:8080/"
        },
        "id": "L8JOqFueXTm7",
        "outputId": "cbb334f8-51d6-4621-c906-2dd383b36970"
      },
      "execution_count": 31,
      "outputs": [
        {
          "output_type": "stream",
          "name": "stdout",
          "text": [
            "📊 현재 이직 의향 현황\n",
            "이직 의향 있음: 51명 (20.4%)\n",
            "이직 의향 없음: 199명 (79.6%)\n"
          ]
        }
      ]
    },
    {
      "cell_type": "markdown",
      "source": [
        "전체 직원의 약 1/5만 이직 의향이 있음\n",
        "\n",
        "즉, 데이터가 클래스 불균형(imbalanced) 되어 있음도 감안해야 함\n",
        "\n",
        "예: 단순히 \"전원 이직 안 함\"이라고 예측해도 80% 정확도가 나올 수 있음!"
      ],
      "metadata": {
        "id": "6ORT_-JXXcO_"
      }
    },
    {
      "cell_type": "code",
      "source": [
        "# TODO: 로지스틱 회귀 모델 생성하기\n",
        "logistic_model = LogisticRegression(random_state=42, max_iter=1000)\n",
        "\n",
        "# TODO: 모델 학습하기\n",
        "logistic_model.fit(X_logistic, y_logistic)\n",
        "\n",
        "# TODO: 이직 확률 예측하기\n",
        "y_pred_proba = logistic_model.predict_proba(X_logistic)[:, 1]\n",
        "\n",
        "# TODO: 이직 여부 예측하기 (0 또는 1)\n",
        "y_pred_class = logistic_model.predict(X_logistic)\n",
        "\n",
        "# TODO: 정확도 계산하기\n",
        "accuracy = (y_pred_class == y_logistic).mean()\n",
        "\n",
        "print(\"🤖 로지스틱 회귀 모델 성능\")\n",
        "print(f\"정확도: {accuracy:.3f}\")\n"
      ],
      "metadata": {
        "colab": {
          "base_uri": "https://localhost:8080/"
        },
        "id": "EB3EgspfXTcQ",
        "outputId": "2b70963f-4b1d-4333-e728-36cbc35a5669"
      },
      "execution_count": 32,
      "outputs": [
        {
          "output_type": "stream",
          "name": "stdout",
          "text": [
            "🤖 로지스틱 회귀 모델 성능\n",
            "정확도: 0.864\n"
          ]
        }
      ]
    },
    {
      "cell_type": "code",
      "source": [
        "from sklearn.metrics import confusion_matrix\n",
        "\n",
        "# TODO: 혼동 행렬 계산하기\n",
        "cm = confusion_matrix(y_logistic, y_pred_class)\n",
        "\n",
        "print(\"📋 혼동 행렬\")\n",
        "print(\"실제 → 예측    이직안함  이직함\")\n",
        "print(f\"이직 안함        {cm[0,0]:3d}    {cm[0,1]:3d}\")\n",
        "print(f\"이직 함          {cm[1,0]:3d}    {cm[1,1]:3d}\")\n",
        "\n",
        "# TODO: 정밀도와 재현율 계산하기\n",
        "# 정밀도 = TP / (TP + FP)\n",
        "precision = cm[1,1] / (cm[1,1] + cm[0,1]) if (cm[1,1] + cm[0,1]) > 0 else 0\n",
        "\n",
        "# 재현율 = TP / (TP + FN)\n",
        "recall = cm[1,1] / (cm[1,1] + cm[1,0]) if (cm[1,1] + cm[1,0]) > 0 else 0\n",
        "\n",
        "print(f\"\\n정밀도: {precision:.3f}\")\n",
        "print(f\"재현율: {recall:.3f}\")\n"
      ],
      "metadata": {
        "colab": {
          "base_uri": "https://localhost:8080/"
        },
        "id": "YYJaEkdjX-Ay",
        "outputId": "f8d938b2-8e85-416d-c006-9b67a49ce631"
      },
      "execution_count": 33,
      "outputs": [
        {
          "output_type": "stream",
          "name": "stdout",
          "text": [
            "📋 혼동 행렬\n",
            "실제 → 예측    이직안함  이직함\n",
            "이직 안함        193      6\n",
            "이직 함           28     23\n",
            "\n",
            "정밀도: 0.793\n",
            "재현율: 0.451\n"
          ]
        }
      ]
    },
    {
      "cell_type": "markdown",
      "source": [
        "정확히 예측한 비이직자 수: 193명\n",
        "\n",
        "정확히 예측한 이직자 수: 23명\n",
        "\n",
        "놓친 이직자 수 (FN): 28명 ← 이직자인데 예측 못 함\n",
        "\n",
        "거짓 경고 (FP): 6명 ← 이직 안 할 사람인데 예측함"
      ],
      "metadata": {
        "id": "VrTn1afSYRy9"
      }
    },
    {
      "cell_type": "code",
      "source": [
        "import numpy as np\n",
        "import pandas as pd\n",
        "\n",
        "# TODO: 오즈비 계산하기\n",
        "odds_ratios = np.exp(logistic_model.coef_[0])\n",
        "\n",
        "# TODO: 오즈비 분석 데이터프레임 만들기\n",
        "odds_analysis = pd.DataFrame({\n",
        "    '변수': X_logistic.columns,\n",
        "    '계수': logistic_model.coef_[0],\n",
        "    '오즈비': odds_ratios,\n",
        "    '위험도변화': [(or_val - 1) * 100 for or_val in odds_ratios]\n",
        "})\n",
        "\n",
        "# TODO: 위험도 변화가 큰 순으로 정렬하기\n",
        "odds_analysis = odds_analysis.reindex(odds_analysis['위험도변화'].abs().sort_values(ascending=False).index)\n",
        "\n",
        "print(\"🎯 이직 위험 요인 분석 (상위 5개)\")\n",
        "print(odds_analysis.head())\n"
      ],
      "metadata": {
        "colab": {
          "base_uri": "https://localhost:8080/"
        },
        "id": "nSa7vg5DYdtP",
        "outputId": "b2ca5de3-8142-4910-caeb-f114080c3f3d"
      },
      "execution_count": 34,
      "outputs": [
        {
          "output_type": "stream",
          "name": "stdout",
          "text": [
            "🎯 이직 위험 요인 분석 (상위 5개)\n",
            "      변수        계수       오즈비      위험도변화\n",
            "6  직급_과장 -0.976027  0.376805 -62.319493\n",
            "8  직급_부장 -0.960123  0.382846 -61.715429\n",
            "5  부서_영업  0.473843  1.606155  60.615491\n",
            "3  부서_개발 -0.630661  0.532240 -46.776002\n",
            "7  직급_대리 -0.603491  0.546899 -45.310074\n"
          ]
        }
      ]
    },
    {
      "cell_type": "markdown",
      "source": [
        "✅ 이직을 줄이는 요인\n",
        "직급이 높을수록(과장, 부장, 대리) → 이직 확률이 유의하게 낮아짐\n",
        "\n",
        "개발부 소속도 → 이직 가능성이 낮음\n",
        "\n",
        "❗ 이직을 증가시키는 요인\n",
        "영업부 소속인 경우 → 이직 가능성이 약 1.6배 높음\n",
        "\n",
        "💼 비즈니스 인사이트\n",
        "보상/승진이 이직 억제에 중요: 직급이 올라갈수록 이직 위험이 확실히 줄어듦.\n",
        "\n",
        "부서 간 조직문화 차이 존재: 영업부는 상대적으로 높은 스트레스나 낮은 만족도를 반영할 수 있음.\n",
        "\n",
        "→ 영업부 타겟 유지 전략 필요 (피드백 수렴, 인센티브 개선 등)"
      ],
      "metadata": {
        "id": "gC4xW7wEYmrY"
      }
    },
    {
      "cell_type": "code",
      "source": [
        "# 로지스틱 회귀 모델이 학습된 상태라고 가정\n",
        "y_pred_proba = logistic_model.predict_proba(X_logistic)[:, 1]\n"
      ],
      "metadata": {
        "id": "ovSaZqmMYdhq"
      },
      "execution_count": 35,
      "outputs": []
    },
    {
      "cell_type": "code",
      "source": [
        "# 고위험군 기준 설정\n",
        "high_risk_threshold = 0.7\n",
        "\n",
        "# 고위험군 필터링\n",
        "high_risk_mask = y_pred_proba > high_risk_threshold\n",
        "high_risk_employees = df_hr[high_risk_mask]\n",
        "\n",
        "# 출력\n",
        "print(f\"🎯 이직 고위험군 식별\")\n",
        "print(f\"이직 확률 {high_risk_threshold:.0%} 이상 직원: {len(high_risk_employees)}명\")\n",
        "\n",
        "if len(high_risk_employees) > 0:\n",
        "    avg_satisfaction = high_risk_employees['만족도'].mean()\n",
        "    avg_salary = high_risk_employees['연봉'].mean()\n",
        "\n",
        "    print(\"고위험군 특징:\")\n",
        "    print(f\"• 평균 만족도: {avg_satisfaction:.1f}점\")\n",
        "    print(f\"• 평균 연봉: {avg_salary/10000:.0f}만원\")\n"
      ],
      "metadata": {
        "colab": {
          "base_uri": "https://localhost:8080/"
        },
        "id": "Qkgd2Lg5Y_dy",
        "outputId": "332aefe0-e4f5-46cc-893c-cced95674b1a"
      },
      "execution_count": 36,
      "outputs": [
        {
          "output_type": "stream",
          "name": "stdout",
          "text": [
            "🎯 이직 고위험군 식별\n",
            "이직 확률 70% 이상 직원: 10명\n",
            "고위험군 특징:\n",
            "• 평균 만족도: 3.6점\n",
            "• 평균 연봉: 3만원\n"
          ]
        }
      ]
    },
    {
      "cell_type": "markdown",
      "source": [
        "이직 고위험군은 만족도가 매우 낮고, 연봉이 다른 직원들과 비교해 매우 비정상적으로 낮은 수준"
      ],
      "metadata": {
        "id": "ZRWIz9WDZMuU"
      }
    },
    {
      "cell_type": "code",
      "source": [
        "print(\"📋 CEO 보고서: 직원 만족도 및 이직 방지 전략\")\n",
        "print(\"=\" * 60)\n",
        "\n",
        "# TODO: 현황 요약 작성하기\n",
        "print(\"\\n📊 현황 요약\")\n",
        "print(f\"• 전체 직원 만족도: {df_hr['만족도'].mean():.1f}/10점\")\n",
        "print(f\"• 현재 이직 의향률: {df_hr['이직의향'].mean():.1%}\")\n",
        "print(f\"• 고위험군: {len(high_risk_employees)}명\")\n",
        "\n",
        "# TODO: 부서별 위험도 분석하기\n",
        "print(\"\\n🏢 부서별 위험도 분석\")\n",
        "dept_risk = df_hr.groupby('부서')['이직의향'].mean().sort_values(ascending=False)\n",
        "\n",
        "for dept, risk in dept_risk.items():\n",
        "    if risk > 0.3:  # 30% 이상이면 높은 위험\n",
        "        emoji = \"🔴\"\n",
        "        level = \"높음\"\n",
        "    elif risk > 0.15:  # 15% 이상이면 보통\n",
        "        emoji = \"🟡\"\n",
        "        level = \"보통\"\n",
        "    else:\n",
        "        emoji = \"🟢\"\n",
        "        level = \"낮음\"\n",
        "\n",
        "    print(f\"{emoji} {dept}부: 이직률 {risk:.1%} (위험도: {level})\")\n",
        "\n",
        "# TODO: 핵심 발견사항 정리하기\n",
        "print(f\"\\n💡 핵심 발견사항\")\n",
        "most_important_factor = coefficients.iloc[0]\n",
        "print(f\"1️⃣ 만족도에 가장 큰 영향: {most_important_factor['변수']}\")\n",
        "\n",
        "# TODO: 권장 액션 플랜 작성하기\n",
        "print(f\"\\n🎯 권장 액션 플랜\")\n",
        "highest_risk_dept = dept_risk.index[0]\n",
        "print(f\"🚨 즉시 조치 필요: {highest_risk_dept}부 집중 관리\")\n",
        "print(f\"💰 투자 우선순위: 만족도 개선 프로그램\")\n",
        "print(f\"📊 모니터링: 월별 만족도 조사 실시\")\n"
      ],
      "metadata": {
        "colab": {
          "base_uri": "https://localhost:8080/"
        },
        "id": "zOCeX-2hZPN1",
        "outputId": "1bea224b-cdf3-4b33-819a-f38177967e4e"
      },
      "execution_count": 37,
      "outputs": [
        {
          "output_type": "stream",
          "name": "stdout",
          "text": [
            "📋 CEO 보고서: 직원 만족도 및 이직 방지 전략\n",
            "============================================================\n",
            "\n",
            "📊 현황 요약\n",
            "• 전체 직원 만족도: 7.5/10점\n",
            "• 현재 이직 의향률: 20.4%\n",
            "• 고위험군: 10명\n",
            "\n",
            "🏢 부서별 위험도 분석\n",
            "🟡 인사부: 이직률 27.8% (위험도: 보통)\n",
            "🟡 영업부: 이직률 27.6% (위험도: 보통)\n",
            "🟡 마케팅부: 이직률 20.8% (위험도: 보통)\n",
            "🟢 개발부: 이직률 13.9% (위험도: 낮음)\n",
            "\n",
            "💡 핵심 발견사항\n",
            "1️⃣ 만족도에 가장 큰 영향: 직급_부장\n",
            "\n",
            "🎯 권장 액션 플랜\n",
            "🚨 즉시 조치 필요: 인사부 집중 관리\n",
            "💰 투자 우선순위: 만족도 개선 프로그램\n",
            "📊 모니터링: 월별 만족도 조사 실시\n"
          ]
        }
      ]
    },
    {
      "cell_type": "markdown",
      "source": [
        "📋 CEO 보고서 해석 요약: 직원 만족도 및 이직 방지 전략\n",
        "\n",
        "📊 1. 현황 요약\n",
        "직원 전반의 평균 만족도는 7.5점으로 비교적 양호하지만,\n",
        "\n",
        "**이직 의향률이 20.4%**로 꽤 높은 편이며,\n",
        "\n",
        "특히 10명의 고위험군(이직 확률 ≥ 70%)이 식별됨 → 이직 리스크 관리 필요\n",
        "\n",
        "🏢 2. 부서별 이직 위험도\n",
        "\n",
        "부서\t이직률\t   위험도\n",
        "\n",
        "인사부\t27.8%\t🟡 보통\n",
        "\n",
        "영업부\t27.6%\t🟡 보통\n",
        "\n",
        "마케팅부\t20.8%\t🟡 보통\n",
        "\n",
        "개발부\t13.9%\t🟢 낮음\n",
        "\n",
        "개발부는 상대적으로 안정적인 부서\n",
        "\n",
        "반면 인사/영업/마케팅은 모두 이직률 20% 이상으로 동시에 관리가 필요\n",
        "\n",
        "💡 3. 핵심 발견사항\n",
        "직원 만족도에 가장 큰 영향을 준 요인: 직급_부장\n",
        "\n",
        "즉, 고직급일수록 만족도가 높고 이직 위험이 낮음\n",
        "\n",
        "반대로 하위 직급에서는 만족도와 이직 의향이 민감하게 작용\n",
        "\n",
        "🎯 4. 권장 액션 플랜\n",
        "🚨 ① 즉시 조치 필요\n",
        "인사부 집중 모니터링 및 면담 실시\n",
        "\n",
        "고위험군 개별 관리: 인터뷰, 경력 설계 지원 등\n",
        "\n",
        "💰 ② 투자 우선순위\n",
        "직급별 공정한 보상 체계 설계\n",
        "\n",
        "만족도 개선 교육 프로그램 운영 (특히 하위 직급 중심)\n",
        "\n",
        "📊 ③ 모니터링 계획\n",
        "월별 만족도 조사 실시로 분위기 실시간 감지\n",
        "\n",
        "이직 의향 예측 모델 정기 업데이트"
      ],
      "metadata": {
        "id": "E09tftC1ZwQi"
      }
    },
    {
      "cell_type": "code",
      "source": [],
      "metadata": {
        "id": "VLtmnz74ZyS6"
      },
      "execution_count": null,
      "outputs": []
    }
  ]
}