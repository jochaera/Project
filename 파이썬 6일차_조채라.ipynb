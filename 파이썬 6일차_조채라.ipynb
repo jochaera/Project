{
 "cells": [
  {
   "cell_type": "code",
   "execution_count": 1,
   "id": "b223fc06",
   "metadata": {},
   "outputs": [],
   "source": [
    "class Square:\n",
    "    def __init__(self):  # 생성자__init__의 매개변수의 첫번째는 self여야 합니다. \n",
    "        self.square = int(input('넓이를 구하고 싶은 사각형의 숫자를 써주세요.\\n 1.직사각형 2.평행사변형 3.사다리꼴 \\n >>>'))  # 입력값을 int로 묶어야 합니다.\n",
    "\n",
    "        if self.square == 1:\n",
    "            print('직사각형 함수는 rect()입니다.')  # Square 클래스에 rect() 메서드를 추가합니다. \n",
    "\n",
    "        elif self.square == 2:\n",
    "            print('평행사변형 함수는 par()입니다.')  # Square 클래스에 par() 메서드를 추가합니다.  \n",
    "        \n",
    "        elif self.square == 3:\n",
    "            print('사다리꼴 함수는 trape()입니다.')  # Square 클래스에 trape() 메서드를 추가합니다. \n",
    "        \n",
    "        else:\n",
    "            print('1, 2, 3 중에서 다시 입력해주세요')"
   ]
  },
  {
   "cell_type": "code",
   "execution_count": 2,
   "id": "999f550a",
   "metadata": {},
   "outputs": [
    {
     "name": "stdout",
     "output_type": "stream",
     "text": [
      "두\n"
     ]
    }
   ],
   "source": [
    "# split()함수 예시 2\n",
    "a, b, c = '모.두.연'.split('.')\n",
    "print(b)"
   ]
  },
  {
   "cell_type": "code",
   "execution_count": 3,
   "id": "8adb5cc3",
   "metadata": {},
   "outputs": [],
   "source": [
    "# 클래스 만들기 \n",
    "class Square:\n",
    "    def __init__(self):\n",
    "        self.square = int(input('넓이를 구하고 싶은 사각형의 숫자를 써주세요.\\n 1.직사각형 2.평행사변형 3.사다리꼴 \\n >>>'))\n",
    "\n",
    "        if self.square == 1:\n",
    "            print('직사각형 함수는 rect()입니다.')\n",
    "\n",
    "        elif self.square == 2:\n",
    "            print('평행사변형 함수는 par()입니다.')\n",
    "        \n",
    "        elif self.square == 3:\n",
    "            print('사다리꼴 함수는 trape()입니다.')\n",
    "        \n",
    "        else:\n",
    "            print('1, 2, 3 중에서 다시 입력해주세요')\n",
    "\n",
    "\n",
    "    def rect(self):\n",
    "        width, vertical = map(int, input('가로, 세로를 입력하세요. 예시 : 가로,세로\\n >>>').split(','))\n",
    "        area = width * vertical\n",
    "        result = '직사각형의 넓이는 : ' + str(area)\n",
    "        return result"
   ]
  },
  {
   "cell_type": "code",
   "execution_count": 4,
   "id": "9626959c",
   "metadata": {},
   "outputs": [
    {
     "name": "stdout",
     "output_type": "stream",
     "text": [
      "넓이를 구하고 싶은 사각형의 숫자를 써주세요.\n",
      " 1.직사각형 2.평행사변형 3.사다리꼴 \n",
      " >>>1\n",
      "직사각형 함수는 rect()입니다.\n"
     ]
    }
   ],
   "source": [
    "# 객체 만들기 \n",
    "a = Square()  # 1 입력하기"
   ]
  },
  {
   "cell_type": "code",
   "execution_count": 5,
   "id": "979b774e",
   "metadata": {},
   "outputs": [],
   "source": [
    "# 문제 1. 평행사변형과 사다리꼴의 넓이를 구하는 메서드를 구현해봅시다. \n",
    "\n",
    "# 평행사변형 메서드\n",
    "def par(self):\n",
    "    base, height = map(int, input('밑변, 높이를 입력하세요. 예시 : 밑변,높이\\n >>>').split(','))\n",
    "    area = base * height\n",
    "    result = '평행사변형의 넓이는 : ' + str(area)\n",
    "    return result\n",
    "\n",
    "# 사다리꼴 메서드\n",
    "def trape(self):\n",
    "    lower_base, upper_base, height = map(int, input('밑변, 윗변, 높이를 입력하세요. 예시 : 밑변,윗변,높이\\n >>>').split(','))\n",
    "    area = (lower_base + upper_base) * height / 2\n",
    "    result = '사다리꼴의 넓이는 : ' + str(area)\n",
    "    return result"
   ]
  },
  {
   "cell_type": "code",
   "execution_count": 6,
   "id": "78fbc5a2",
   "metadata": {},
   "outputs": [
    {
     "name": "stdout",
     "output_type": "stream",
     "text": [
      "넓이를 구하고 싶은 사각형의 숫자를 써주세요.\n",
      " 1.직사각형 2.평행사변형 3.사다리꼴 \n",
      " >>>2\n",
      "평행사변형 함수는 par()입니다.\n"
     ]
    }
   ],
   "source": [
    "# 사각형 넓이를 구하는 클래스 완성!\n",
    "class Square:\n",
    "    def __init__(self):\n",
    "        self.square = int(input('넓이를 구하고 싶은 사각형의 숫자를 써주세요.\\n 1.직사각형 2.평행사변형 3.사다리꼴 \\n >>>'))\n",
    "\n",
    "        if self.square == 1:\n",
    "            print('직사각형 함수는 rect()입니다.')\n",
    "\n",
    "        elif self.square == 2:\n",
    "            print('평행사변형 함수는 par()입니다.')\n",
    "        \n",
    "        elif self.square == 3:\n",
    "            print('사다리꼴 함수는 trape()입니다.')\n",
    "        \n",
    "        else:\n",
    "            print('1, 2, 3 중에서 다시 입력해주세요')\n",
    "\n",
    "    def rect(self):\n",
    "        width, vertical = map(int, input('가로, 세로를 입력하세요. 예시 : 가로,세로\\n >>>').split(','))\n",
    "        area = width * vertical\n",
    "        result = '직사각형의 넓이는 : ' + str(area)\n",
    "        return result\n",
    "\n",
    "    def par(self):\n",
    "        base, height = map(int, input('밑변, 높이를 입력하세요. 예시 : 밑변,높이\\n >>>').split(','))\n",
    "        area = base * height\n",
    "        result = '평행사변형의 넓이는 : ' + str(area)\n",
    "        return result\n",
    "\n",
    "    def trape(self):\n",
    "        lower_base, upper_base, height = map(int, input('밑변, 윗변, 높이를 입력하세요. 예시 : 밑변,윗변,높이\\n >>>').split(','))\n",
    "        area = (lower_base + upper_base) * height / 2\n",
    "        result = '사다리꼴의 넓이는 : ' + str(area)\n",
    "        return result\n",
    "\n",
    "a = Square()  # 객체 생성 & 2, 3을 각각 입력해 봅시다."
   ]
  },
  {
   "cell_type": "code",
   "execution_count": 7,
   "id": "8071f5fc",
   "metadata": {},
   "outputs": [
    {
     "name": "stdout",
     "output_type": "stream",
     "text": [
      "밑변, 높이를 입력하세요. 예시 : 밑변,높이\n",
      " >>>3,2\n"
     ]
    },
    {
     "data": {
      "text/plain": [
       "'평행사변형의 넓이는 : 6'"
      ]
     },
     "execution_count": 7,
     "metadata": {},
     "output_type": "execute_result"
    }
   ],
   "source": [
    "# 평형사변형의 넓이\n",
    "a.par()  # 3,2를 입력했을 때 넓이가 6이 나와야 합니다."
   ]
  },
  {
   "cell_type": "code",
   "execution_count": 8,
   "id": "7e73cd3a",
   "metadata": {},
   "outputs": [
    {
     "name": "stdout",
     "output_type": "stream",
     "text": [
      "밑변, 윗변, 높이를 입력하세요. 예시 : 밑변,윗변,높이\n",
      " >>>3,2,1\n"
     ]
    },
    {
     "data": {
      "text/plain": [
       "'사다리꼴의 넓이는 : 2.5'"
      ]
     },
     "execution_count": 8,
     "metadata": {},
     "output_type": "execute_result"
    }
   ],
   "source": [
    "# 사다리꼴의 넓이\n",
    "a.trape()  # 3,2,1 을 입력했을 때 넓이가 2.5이 나와야 합니다."
   ]
  },
  {
   "cell_type": "code",
   "execution_count": 9,
   "id": "0afd7566",
   "metadata": {},
   "outputs": [],
   "source": [
    "# 커피 메뉴와 가격\n",
    "coffee = ['americano', 'latte', 'mocha'] \n",
    "c_price = [2000, 3000, 3000]\n",
    "\n",
    "# 논커피 메뉴와 가격\n",
    "non_coffee = ['yuza_tea', 'green_tea', 'choco_latte']\n",
    "n_price = [2500, 2500, 3000]\n",
    "\n",
    "# 전체 메뉴와 가격 \n",
    "menu = ['americano', 'latte', 'mocha', 'yuza_tea', 'green_tea', 'choco_latte']\n",
    "price = [2000, 3000, 3000, 2500, 2500, 3000]"
   ]
  },
  {
   "cell_type": "code",
   "execution_count": 10,
   "id": "8fa7686f",
   "metadata": {},
   "outputs": [
    {
     "name": "stdout",
     "output_type": "stream",
     "text": [
      "['yuza_tea', 'green_tea', 'choco_latte'] [2500, 2500, 3000]\n"
     ]
    }
   ],
   "source": [
    "# 논커피 메뉴와 가격을 출력해보세요.\n",
    "print(menu[3:], price[3:])"
   ]
  },
  {
   "cell_type": "code",
   "execution_count": 11,
   "id": "ccb1f99b",
   "metadata": {},
   "outputs": [],
   "source": [
    "# 문제 2-1. Kiosk 클래스를 생성합니다. \n",
    "\n",
    "class Kiosk:\n",
    "    def __init__(self):\n",
    "        self.menu = menu\n",
    "        self.price = price"
   ]
  },
  {
   "cell_type": "code",
   "execution_count": 12,
   "id": "770516d7",
   "metadata": {},
   "outputs": [
    {
     "data": {
      "text/plain": [
       "['americano', 'latte', 'mocha', 'yuza_tea', 'green_tea', 'choco_latte']"
      ]
     },
     "execution_count": 12,
     "metadata": {},
     "output_type": "execute_result"
    }
   ],
   "source": [
    "a = Kiosk()  # 객체를 생성합니다.\n",
    "a.menu  # 객체 속성을 출력합니다."
   ]
  },
  {
   "cell_type": "code",
   "execution_count": 13,
   "id": "5854e52c",
   "metadata": {},
   "outputs": [
    {
     "data": {
      "text/plain": [
       "[2000, 3000, 3000, 2500, 2500, 3000]"
      ]
     },
     "execution_count": 13,
     "metadata": {},
     "output_type": "execute_result"
    }
   ],
   "source": [
    "# 가격을 출력해보세요.\n",
    "a.price"
   ]
  },
  {
   "cell_type": "code",
   "execution_count": 14,
   "id": "4610aaf0",
   "metadata": {},
   "outputs": [],
   "source": [
    "# 문제 2-2. 주문 메서드  \n",
    "# 음료의 이름과 가격을 출력하세요.  \n",
    "\n",
    "def menu_select(self):\n",
    "    n = int(input(\"음료의 번호를 입력하세요 : \"))  # 음료 번호 입력\n",
    "    self.price_sum = self.price[n-1]  # 선택 음료의 가격\n",
    "    # 문제 2-2. 음료의 이름과 가격을 출력하세요.\n",
    "    print(self.menu[n], ' : ', self.price[n], '원')  # 메뉴"
   ]
  },
  {
   "cell_type": "code",
   "execution_count": 15,
   "id": "fd2a086b",
   "metadata": {},
   "outputs": [],
   "source": [
    "# 주문 메서드   \n",
    "def menu_select(self):\n",
    "    n = 0\n",
    "    while n < 1 or len(menu) < n:\n",
    "        n = int(input(\"음료 번호를 입력하세요 : \"))  # 음료 번호 입력\n",
    "    \n",
    "        # 메뉴판에 있는 음료 번호일 때\n",
    "        if 1 <= n & n <= len(menu):\n",
    "            self.price_sum = self.price[n-1]  # 선택 음료의 가격\n",
    "            # 문제 2-2의 답을 입력하세요. \n",
    "            print(self.menu[n-1], ' : ', self.price[n-1], '원')   # 메뉴\n",
    "    \n",
    "        # 메뉴판에 없는 번호일 때\n",
    "        else:\n",
    "            print(\"없는 메뉴입니다. 다시 주문해 주세요.\")"
   ]
  },
  {
   "cell_type": "code",
   "execution_count": 16,
   "id": "89fec63a",
   "metadata": {},
   "outputs": [],
   "source": [
    "class Kiosk:    \n",
    "    def __init__(self):\n",
    "        # 문제 2-1의 답을 입력하세요. \n",
    "        self.menu = menu\n",
    "        self.price = price\n",
    "\n",
    "    # 메뉴 출력 메서드\n",
    "    def menu_print(self):\n",
    "        for i in range(len(self.menu)):\n",
    "            print(i+1, self.menu[i], ' : ', self.price[i], '원')\n",
    "\n",
    "    # 주문 메서드\n",
    "    def menu_select(self):\n",
    "        print()  # 줄 바꿈\n",
    "        n = 0\n",
    "        while n < 1 or len(menu) < n:\n",
    "            n = int(input(\"음료 번호를 입력하세요 : \"))  # 음료 번호 입력\n",
    "\n",
    "            # 메뉴판에 있는 음료 번호일때\n",
    "            if 1 <= n & n <= len(menu):\n",
    "                self.price_sum = self.price[n-1]  # 선택 음료의 가격\n",
    "                # 문제 2-2의 답을 입력하세요. \n",
    "                print(self.menu[n-1], ' : ', self.price[n-1], '원')   # 메뉴\n",
    "        \n",
    "             # 메뉴판에 없는 번호일 때\n",
    "            else:  \n",
    "                print(\"없는 메뉴입니다. 다시 주문해 주세요.\")"
   ]
  },
  {
   "cell_type": "code",
   "execution_count": 17,
   "id": "80fa1e53",
   "metadata": {},
   "outputs": [
    {
     "name": "stdout",
     "output_type": "stream",
     "text": [
      "1 americano  :  2000 원\n",
      "2 latte  :  3000 원\n",
      "3 mocha  :  3000 원\n",
      "4 yuza_tea  :  2500 원\n",
      "5 green_tea  :  2500 원\n",
      "6 choco_latte  :  3000 원\n",
      "\n",
      "음료 번호를 입력하세요 : 1\n",
      "americano  :  2000 원\n"
     ]
    }
   ],
   "source": [
    "# 아메리카노 주문해보기  \n",
    "a = Kiosk()  # 객체 생성 \n",
    "a.menu_print()  # 메뉴 출력\n",
    "a.menu_select()  # 아메리카노 주문"
   ]
  },
  {
   "cell_type": "code",
   "execution_count": 18,
   "id": "f1f73de0",
   "metadata": {},
   "outputs": [],
   "source": [
    "# 문제 2-3. 주문 메서드      \n",
    "\n",
    "# 음료의 온도에 따라 temp 변수를 \"HOT\" 또는 \"ICE\"로 지정하세요.\n",
    "\n",
    "class Kiosk: \n",
    "    def __init__(self):\n",
    "        # 문제 2-1의 답을 입력하세요. \n",
    "        self.menu = menu\n",
    "        self.price = price\n",
    "\n",
    "    # 메뉴 출력 메서드\n",
    "    def menu_print(self):\n",
    "        for i in range(len(self.menu)):\n",
    "            print(i + 1, self.menu[i], ' : ', self.price[i], '원')\n",
    "\n",
    "    # 주문 메서드\n",
    "    def menu_select(self):\n",
    "        print()  # 줄 바꿈\n",
    "        n = 0\n",
    "        while n < 1 or len(menu) < n:\n",
    "            n = int(input(\"음료 번호를 입력하세요 : \"))  # 음료 번호 입력\n",
    "\n",
    "            # 메뉴판에 있는 음료 번호일때\n",
    "            if 1 <= n & n <= len(menu):\n",
    "                self.price_sum = self.price[n-1]  # 선택 음료의 가격\n",
    "        \n",
    "            # 메뉴판에 없는 번호일 때\n",
    "            else:  \n",
    "                print(\"없는 메뉴입니다. 다시 주문해 주세요.\")\n",
    "\n",
    "        # 음료 온도 물어보기\n",
    "        t = 0  # 기본값을 넣어주고\n",
    "        while t != 1 and t != 2:  # 1이나 2를 입력할 때까지 물어보기\n",
    "            t= int(input(\"HOT 음료는 1을, ICE 음료는 2를 입력하세요 : \"))\n",
    "            # 문제 2-3. 음료의 온도에 따라 temp 변수를 \"HOT\" 또는 \"ICE\"로 지정하세요.   \n",
    "            # 힌트: if문을 활용해보세요.        \n",
    "            if t == 1: \n",
    "                self.temp = \"HOT\"\n",
    "            elif t == 2: \n",
    "                self.temp = \"ICE\"\n",
    "            else:    \n",
    "                print(\"1과 2 중 하나를 입력하세요.\\n\")\n",
    "        # 문제 2-2의 답을 입력하세요. \n",
    "        print('주문 음료', self.temp, self.menu[n-1], ' : ', self.price[n-1], '원')  # 온도 속성을 추가한 주문 결과 출력"
   ]
  },
  {
   "cell_type": "code",
   "execution_count": 19,
   "id": "78c00847",
   "metadata": {},
   "outputs": [
    {
     "name": "stdout",
     "output_type": "stream",
     "text": [
      "1 americano  :  2000 원\n",
      "2 latte  :  3000 원\n",
      "3 mocha  :  3000 원\n",
      "4 yuza_tea  :  2500 원\n",
      "5 green_tea  :  2500 원\n",
      "6 choco_latte  :  3000 원\n",
      "\n",
      "음료 번호를 입력하세요 : 6\n",
      "HOT 음료는 1을, ICE 음료는 2를 입력하세요 : 2\n",
      "주문 음료 ICE choco_latte  :  3000 원\n"
     ]
    }
   ],
   "source": [
    "# 아이스 초코라떼 주문해보기  \n",
    "a = Kiosk()  # 객체 생성\n",
    "a.menu_print()  # 메뉴 출력\n",
    "a.menu_select()"
   ]
  },
  {
   "cell_type": "code",
   "execution_count": 20,
   "id": "14c54a87",
   "metadata": {},
   "outputs": [],
   "source": [
    "# 문제 2-4. 추가 주문       \n",
    "# 추가 음료의 온도를 입력받고, 가격 리스트와 주문 리스트, 합계 금액을 업데이트합니다. \n",
    "\n",
    "def menu_select(self):\n",
    "    self.order_menu = []  # 주문 리스트\n",
    "    self.order_price = []  # 가격 리스트\n",
    "\n",
    "    n = 0\n",
    "    while n < 1 or len(menu) < n:\n",
    "        n = int(input(\"음료를 번호를 입력하세요 : \"))  # 음료 번호 입력\n",
    "\n",
    "        # 메뉴판에 있는 음료 번호일 때\n",
    "        if 1 <= n & n <= len(menu):\n",
    "            self.order_price.append(self.price[n-1])  # 가격 리스트에 추가합니다.\n",
    "            self.price_sum = self.price[n-1]  # 합계 금액\n",
    "        \n",
    "            # 메뉴판에 없는 번호일 때\n",
    "        else:  \n",
    "            print(\"없는 메뉴입니다. 다시 주문해 주세요.\")\n",
    "\n",
    "\n",
    "    # 음료 온도 물어보기\n",
    "    t = 0  # 기본값을 넣어주고\n",
    "    while t != 1 and t != 2:  # 1이나 2를 입력할 때까지 물어보기\n",
    "        t= int(input(\"HOT 음료는 1을, ICE 음료는 2를 입력하세요 : \"))\n",
    "        # 문제 2-3의 답을 입력하세요. \n",
    "        if t == 1:\n",
    "            self.temp = \"HOT\"\n",
    "        elif t == 2:\n",
    "            self.temp = \"ICE\"\n",
    "        else:    \n",
    "            print(\"1과 2 중 하나를 입력하세요.\\n\")\n",
    "\n",
    "    self.order_menu.append(self.temp + ' ' + self.menu[n-1])  # 주문 리스트에 추가합니다.\n",
    "    # 문제 2-2의 답을 입력하세요. \n",
    "    print(self.temp, self.menu[n-1], ' : ', self.price[n-1], '원')  # 온도 속성을 추가한 주문 결과를 출력합니다.\n",
    "\n",
    "    # 추가 주문 또는 지불\n",
    "    while n != 0:  # 지불을 선택하기 전까지 반복합니다.\n",
    "        print()  # 줄 바꾸면서 \n",
    "        n = int(input(\"추가 주문은 음료 번호를, 지불은 0을 누르세요 : \"))  # 추가 주문 또는 지불\n",
    "        if n > 0 and n < len(self.menu) + 1: \n",
    "            # 추가 음료 온도 \n",
    "            # 문제 2-4. 추가 음료의 온도를 입력받고, 가격 리스트, 주문 리스트, 합계 금액을 업데이트해보세요.\n",
    "            t = 0\n",
    "            while t != 1 and t != 2:\n",
    "                t = int(input(\"HOT 음료는 1을, ICE 음료는 2를 입력하세요 : \"))\n",
    "                if t == 1:\n",
    "                    temp = \"HOT\"\n",
    "                elif t == 2:\n",
    "                    temp = \"ICE\"\n",
    "                else:\n",
    "                    print(\"1과 2 중 하나를 입력하세요.\\n\")\n",
    "\n",
    "            drink = temp + ' ' + self.menu[n-1]\n",
    "            self.order_menu.append(drink)\n",
    "            self.order_price.append(self.price[n-1])\n",
    "            self.price_sum += self.price[n-1]\n",
    "\n",
    "            print('추가 주문 음료', drink, ':', self.price[n-1], '원\\n', '합계 : ', self.price_sum, '원')\n",
    "        else :\n",
    "            if n == 0 :  # 지불을 입력하면\n",
    "                print(\"주문이 완료되었습니다.\")\n",
    "                print(self.order_menu, self.order_price)  # 확인을 위한 리스트를 출력합니다.\n",
    "            else :  # 없는 번호를 입력할 때\n",
    "                print(\"없는 메뉴입니다. 다시 주문해 주세요.\")"
   ]
  },
  {
   "cell_type": "code",
   "execution_count": 21,
   "id": "1a6d0fdf",
   "metadata": {},
   "outputs": [],
   "source": [
    "Kiosk.menu_select = menu_select"
   ]
  },
  {
   "cell_type": "code",
   "execution_count": 22,
   "id": "8fa91fb7",
   "metadata": {},
   "outputs": [
    {
     "name": "stdout",
     "output_type": "stream",
     "text": [
      "1 americano  :  2000 원\n",
      "2 latte  :  3000 원\n",
      "3 mocha  :  3000 원\n",
      "4 yuza_tea  :  2500 원\n",
      "5 green_tea  :  2500 원\n",
      "6 choco_latte  :  3000 원\n",
      "음료를 번호를 입력하세요 : 2\n",
      "HOT 음료는 1을, ICE 음료는 2를 입력하세요 : 2\n",
      "ICE latte  :  3000 원\n",
      "\n",
      "추가 주문은 음료 번호를, 지불은 0을 누르세요 : 1\n",
      "HOT 음료는 1을, ICE 음료는 2를 입력하세요 : 2\n",
      "추가 주문 음료 ICE americano : 2000 원\n",
      " 합계 :  5000 원\n",
      "\n",
      "추가 주문은 음료 번호를, 지불은 0을 누르세요 : 1\n",
      "HOT 음료는 1을, ICE 음료는 2를 입력하세요 : 2\n",
      "추가 주문 음료 ICE americano : 2000 원\n",
      " 합계 :  7000 원\n",
      "\n",
      "추가 주문은 음료 번호를, 지불은 0을 누르세요 : 6\n",
      "HOT 음료는 1을, ICE 음료는 2를 입력하세요 : 2\n",
      "추가 주문 음료 ICE choco_latte : 3000 원\n",
      " 합계 :  10000 원\n",
      "\n",
      "추가 주문은 음료 번호를, 지불은 0을 누르세요 : 5\n",
      "HOT 음료는 1을, ICE 음료는 2를 입력하세요 : 1\n",
      "추가 주문 음료 HOT green_tea : 2500 원\n",
      " 합계 :  12500 원\n",
      "\n",
      "추가 주문은 음료 번호를, 지불은 0을 누르세요 : 0\n",
      "주문이 완료되었습니다.\n",
      "['ICE latte', 'ICE americano', 'ICE americano', 'ICE choco_latte', 'HOT green_tea'] [3000, 2000, 2000, 3000, 2500]\n"
     ]
    }
   ],
   "source": [
    "# 5가지 이상의 음료를 주문하고 리스트 확인하기 \n",
    "a = Kiosk()  # 객체 생성\n",
    "a.menu_print()  # 메뉴 출력\n",
    "a.menu_select()  # 주문"
   ]
  },
  {
   "cell_type": "code",
   "execution_count": 23,
   "id": "501bb44f",
   "metadata": {},
   "outputs": [
    {
     "name": "stdout",
     "output_type": "stream",
     "text": [
      "결제 수단을 선택하세요. 2\n",
      "IC칩 방향에 맞게 카드를 꽂아주세요.\n"
     ]
    }
   ],
   "source": [
    "# 문제 3-1. 지불 메서드\n",
    "# 위의 설명을 참고하여 pay 함수를 구현합니다. \n",
    "\n",
    "pay = input(\"결제 수단을 선택하세요. \")\n",
    "\n",
    "if pay in [\"현금\", \"cash\", \"1\"]:\n",
    "    print(\"직원을 호출하겠습니다.\")\n",
    "elif pay in [\"카드\", \"card\", \"2\"]:\n",
    "    print(\"IC칩 방향에 맞게 카드를 꽂아주세요.\")\n",
    "else:\n",
    "    print(\"다시 결제를 시도해 주세요.\")"
   ]
  },
  {
   "cell_type": "code",
   "execution_count": 25,
   "id": "0d20f80e",
   "metadata": {},
   "outputs": [],
   "source": [
    "# 문제 3-1. 지불 메서드\n",
    "# 위의 설명을 참고하여 pay 함수를 구현합니다. \n",
    "\n",
    "def pay(self):\n",
    "    print(f\"\\n총 결제 금액은 {self.price_sum}원입니다.\")\n",
    "    pay = input(\"결제 수단을 선택하세요 (1: 현금, 2: 카드): \")\n",
    "    \n",
    "    if pay in [\"현금\", \"cash\", \"1\"]:\n",
    "        print(\"직원을 호출하겠습니다.\")\n",
    "    elif pay in [\"카드\", \"card\", \"2\"]:\n",
    "        print(\"IC칩 방향에 맞게 카드를 꽂아주세요.\")\n",
    "    else:\n",
    "        print(\"다시 결제를 시도해 주세요.\")"
   ]
  },
  {
   "cell_type": "code",
   "execution_count": 26,
   "id": "cfd73542",
   "metadata": {},
   "outputs": [],
   "source": [
    "Kiosk.pay = pay"
   ]
  },
  {
   "cell_type": "code",
   "execution_count": 27,
   "id": "d038e9bd",
   "metadata": {},
   "outputs": [
    {
     "name": "stdout",
     "output_type": "stream",
     "text": [
      "1 americano  :  2000 원\n",
      "2 latte  :  3000 원\n",
      "3 mocha  :  3000 원\n",
      "4 yuza_tea  :  2500 원\n",
      "5 green_tea  :  2500 원\n",
      "6 choco_latte  :  3000 원\n",
      "음료를 번호를 입력하세요 : 3\n",
      "HOT 음료는 1을, ICE 음료는 2를 입력하세요 : 1\n",
      "HOT mocha  :  3000 원\n",
      "\n",
      "추가 주문은 음료 번호를, 지불은 0을 누르세요 : 2\n",
      "HOT 음료는 1을, ICE 음료는 2를 입력하세요 : 2\n",
      "추가 주문 음료 ICE latte : 3000 원\n",
      " 합계 :  6000 원\n",
      "\n",
      "추가 주문은 음료 번호를, 지불은 0을 누르세요 : 6\n",
      "HOT 음료는 1을, ICE 음료는 2를 입력하세요 : 2\n",
      "추가 주문 음료 ICE choco_latte : 3000 원\n",
      " 합계 :  9000 원\n",
      "\n",
      "추가 주문은 음료 번호를, 지불은 0을 누르세요 : 5\n",
      "HOT 음료는 1을, ICE 음료는 2를 입력하세요 : 1\n",
      "추가 주문 음료 HOT green_tea : 2500 원\n",
      " 합계 :  11500 원\n",
      "\n",
      "추가 주문은 음료 번호를, 지불은 0을 누르세요 : 4\n",
      "HOT 음료는 1을, ICE 음료는 2를 입력하세요 : 1\n",
      "추가 주문 음료 HOT yuza_tea : 2500 원\n",
      " 합계 :  14000 원\n",
      "\n",
      "추가 주문은 음료 번호를, 지불은 0을 누르세요 : 0\n",
      "주문이 완료되었습니다.\n",
      "['HOT mocha', 'ICE latte', 'ICE choco_latte', 'HOT green_tea', 'HOT yuza_tea'] [3000, 3000, 3000, 2500, 2500]\n",
      "\n",
      "총 결제 금액은 14000원입니다.\n",
      "결제 수단을 선택하세요 (1: 현금, 2: 카드): 2\n",
      "IC칩 방향에 맞게 카드를 꽂아주세요.\n"
     ]
    }
   ],
   "source": [
    "a = Kiosk()  # 객체 생성 \n",
    "a.menu_print()  # 메뉴 출력\n",
    "a.menu_select()  # 주문\n",
    "a.pay()  # 지불"
   ]
  },
  {
   "cell_type": "code",
   "execution_count": 29,
   "id": "a2181442",
   "metadata": {},
   "outputs": [
    {
     "name": "stdout",
     "output_type": "stream",
     "text": [
      "⟝------------------------------⟞\n",
      "|                               |\n",
      "|                               |\n",
      "|                               |\n",
      "|                               |\n",
      "|                               |\n",
      "HOT americano  :  2000\n",
      "ICE latte  :  3000\n",
      "ICE mocha  :  3000\n",
      "ICE choco_latte  :  3000\n",
      "합계 금액 : 11000\n",
      "|                               |\n",
      "|                               |\n",
      "|                               |\n",
      "|                               |\n",
      "|                               |\n",
      "⟝------------------------------⟞\n"
     ]
    }
   ],
   "source": [
    "menu_temp = ['HOT americano', 'ICE latte', 'ICE mocha', 'ICE choco_latte'] \n",
    "price_temp = [2000, 3000, 3000, 3000] \n",
    "\n",
    "# 외곽\n",
    "print('⟝' + '-' * 30 + '⟞')\n",
    "for i in range(5):\n",
    "    print('|' + ' ' * 31 + '|')\n",
    "\n",
    "# 주문 상품명 : 해당 금액\n",
    "for i in range(len(menu_temp)):\n",
    "    print(menu_temp[i], ' : ', price_temp[i])\n",
    "\n",
    "print('합계 금액 :', sum(price_temp))\n",
    "\n",
    "# 외곽\n",
    "for i in range(5):\n",
    "    print('|' + ' ' * 31+ '|')\n",
    "print('⟝' + '-' * 30 + '⟞')"
   ]
  },
  {
   "cell_type": "code",
   "execution_count": 28,
   "id": "88744451",
   "metadata": {},
   "outputs": [],
   "source": [
    "def table(self):\n",
    "    print('⟝' + '-' * 30 + '⟞')\n",
    "\n",
    "    # 위 공백\n",
    "    for _ in range(2):\n",
    "        print('|' + ' ' * 30 + '|')\n",
    "\n",
    "    # 주문 내역 출력\n",
    "    for i in range(len(self.order_menu)):\n",
    "        line = f\"{self.order_temp[i]} {self.order_menu[i]}\".ljust(20) + f\": {self.order_price[i]}원\"\n",
    "        print(f\"| {line.ljust(29)}|\")\n",
    "\n",
    "    # 합계 출력\n",
    "    total_line = f\"합계 금액\".ljust(20) + f\": {self.price_sum}원\"\n",
    "    print(f\"| {total_line.ljust(29)}|\")\n",
    "\n",
    "    # 아래 공백\n",
    "    for _ in range(2):\n",
    "        print('|' + ' ' * 30 + '|')\n",
    "\n",
    "    print('⟝' + '-' * 30 + '⟞')"
   ]
  },
  {
   "cell_type": "code",
   "execution_count": 30,
   "id": "0508c9f0",
   "metadata": {},
   "outputs": [],
   "source": [
    "# 문제 3-3. 클래스 업데이트  \n",
    "# 앞에서 구현했던 메서드들을 Kiosk 클래스에 추가합니다. 직접 코드를 작성해 보세요! \n",
    "\n",
    "class Kiosk:\n",
    "    def __init__(self):\n",
    "        self.menu = [\"americano\", \"latte\", \"mocha\", \"yuza_tea\", \"green_tea\", \"choco_latte\"]\n",
    "        self.price = [2000, 3000, 3000, 2500, 2500, 3000]\n",
    "        self.order_menu = []\n",
    "        self.order_temp = []\n",
    "        self.order_price = []\n",
    "        self.price_sum = 0\n",
    "\n",
    "    # 메뉴 출력 메서드\n",
    "    def menu_print(self):\n",
    "        for i in range(len(self.menu)):\n",
    "            print(i + 1, self.menu[i], ' : ', self.price[i], '원')\n",
    "\n",
    "    # 주문 메서드\n",
    "    def menu_select(self):\n",
    "        n = 0\n",
    "        while n < 1 or n > len(self.menu):\n",
    "            n = int(input(\"음료 번호를 입력하세요 : \"))\n",
    "            if 1 <= n <= len(self.menu):\n",
    "                self.order_menu.append(self.menu[n - 1])\n",
    "                self.order_price.append(self.price[n - 1])\n",
    "                self.price_sum += self.price[n - 1]\n",
    "            else:\n",
    "                print(\"없는 메뉴입니다. 다시 주문해 주세요.\")\n",
    "\n",
    "        # 첫 음료 온도\n",
    "        t = 0\n",
    "        while t != 1 and t != 2:\n",
    "            t = int(input(\"HOT 음료는 1을, ICE 음료는 2를 입력하세요 : \"))\n",
    "            if t == 1:\n",
    "                self.temp = \"HOT\"\n",
    "            elif t == 2:\n",
    "                self.temp = \"ICE\"\n",
    "            else:\n",
    "                print(\"1과 2 중 하나를 입력하세요.\\n\")\n",
    "\n",
    "        self.order_temp.append(self.temp)\n",
    "        print(self.temp, self.menu[n - 1], ' : ', self.price[n - 1], '원')\n",
    "\n",
    "        # 추가 주문\n",
    "        while True:\n",
    "            print()\n",
    "            n = int(input(\"추가 주문은 음료 번호를, 지불은 0을 누르세요 : \"))\n",
    "            if n == 0:\n",
    "                print(\"주문이 완료되었습니다.\")\n",
    "                break\n",
    "            elif 1 <= n <= len(self.menu):\n",
    "                t = 0\n",
    "                while t != 1 and t != 2:\n",
    "                    t = int(input(\"HOT 음료는 1을, ICE 음료는 2를 입력하세요 : \"))\n",
    "                    if t == 1:\n",
    "                        temp = \"HOT\"\n",
    "                    elif t == 2:\n",
    "                        temp = \"ICE\"\n",
    "                    else:\n",
    "                        print(\"1과 2 중 하나를 입력하세요.\\n\")\n",
    "\n",
    "                self.order_menu.append(self.menu[n - 1])\n",
    "                self.order_temp.append(temp)\n",
    "                self.order_price.append(self.price[n - 1])\n",
    "                self.price_sum += self.price[n - 1]\n",
    "\n",
    "                print('추가 주문 음료', temp, self.menu[n - 1], ':', self.price[n - 1], '원\\n합계 :', self.price_sum, '원')\n",
    "            else:\n",
    "                print(\"없는 메뉴입니다. 다시 주문해 주세요.\")\n",
    "\n",
    "\n",
    "    # 지불\n",
    "    def pay(self):\n",
    "        print(f\"\\n총 결제 금액은 {self.price_sum}원입니다.\")\n",
    "        pay = input(\"결제 수단을 선택하세요 (1: 현금, 2: 카드): \")\n",
    "        if pay in [\"현금\", \"cash\", \"1\"]:\n",
    "            print(\"직원을 호출하겠습니다.\")\n",
    "        elif pay in [\"카드\", \"card\", \"2\"]:\n",
    "            print(\"IC칩 방향에 맞게 카드를 꽂아주세요.\")\n",
    "        else:\n",
    "            print(\"다시 결제를 시도해 주세요.\")\n",
    "\n",
    "\n",
    "    # 주문서 출력 \n",
    "    def table(self):\n",
    "        print('⟝' + '-' * 30 + '⟞')\n",
    "        for _ in range(2):\n",
    "            print('|' + ' ' * 30 + '|')\n",
    "\n",
    "        for i in range(len(self.order_menu)):\n",
    "            line = f\"{self.order_temp[i]} {self.order_menu[i]}\".ljust(20) + f\": {self.order_price[i]}원\"\n",
    "            print(f\"| {line.ljust(29)}|\")\n",
    "\n",
    "        total_line = f\"합계 금액\".ljust(20) + f\": {self.price_sum}원\"\n",
    "        print(f\"| {total_line.ljust(29)}|\")\n",
    "\n",
    "        for _ in range(2):\n",
    "            print('|' + ' ' * 30 + '|')\n",
    "        print('⟝' + '-' * 30 + '⟞')"
   ]
  },
  {
   "cell_type": "code",
   "execution_count": 31,
   "id": "bb358f1c",
   "metadata": {},
   "outputs": [
    {
     "name": "stdout",
     "output_type": "stream",
     "text": [
      "1 americano  :  2000 원\n",
      "2 latte  :  3000 원\n",
      "3 mocha  :  3000 원\n",
      "4 yuza_tea  :  2500 원\n",
      "5 green_tea  :  2500 원\n",
      "6 choco_latte  :  3000 원\n",
      "음료 번호를 입력하세요 : 1\n",
      "HOT 음료는 1을, ICE 음료는 2를 입력하세요 : 2\n",
      "ICE americano  :  2000 원\n",
      "\n",
      "추가 주문은 음료 번호를, 지불은 0을 누르세요 : 2\n",
      "HOT 음료는 1을, ICE 음료는 2를 입력하세요 : 2\n",
      "추가 주문 음료 ICE latte : 3000 원\n",
      "합계 : 5000 원\n",
      "\n",
      "추가 주문은 음료 번호를, 지불은 0을 누르세요 : 6\n",
      "HOT 음료는 1을, ICE 음료는 2를 입력하세요 : 2\n",
      "추가 주문 음료 ICE choco_latte : 3000 원\n",
      "합계 : 8000 원\n",
      "\n",
      "추가 주문은 음료 번호를, 지불은 0을 누르세요 : 4\n",
      "HOT 음료는 1을, ICE 음료는 2를 입력하세요 : 1\n",
      "추가 주문 음료 HOT yuza_tea : 2500 원\n",
      "합계 : 10500 원\n",
      "\n",
      "추가 주문은 음료 번호를, 지불은 0을 누르세요 : 5\n",
      "HOT 음료는 1을, ICE 음료는 2를 입력하세요 : 1\n",
      "추가 주문 음료 HOT green_tea : 2500 원\n",
      "합계 : 13000 원\n",
      "\n",
      "추가 주문은 음료 번호를, 지불은 0을 누르세요 : 0\n",
      "주문이 완료되었습니다.\n",
      "\n",
      "총 결제 금액은 13000원입니다.\n",
      "결제 수단을 선택하세요 (1: 현금, 2: 카드): 2\n",
      "IC칩 방향에 맞게 카드를 꽂아주세요.\n",
      "⟝------------------------------⟞\n",
      "|                              |\n",
      "|                              |\n",
      "| ICE americano       : 2000원  |\n",
      "| ICE latte           : 3000원  |\n",
      "| ICE choco_latte     : 3000원  |\n",
      "| HOT yuza_tea        : 2500원  |\n",
      "| HOT green_tea       : 2500원  |\n",
      "| 합계 금액               : 13000원 |\n",
      "|                              |\n",
      "|                              |\n",
      "⟝------------------------------⟞\n"
     ]
    }
   ],
   "source": [
    "a = Kiosk()  # 객체 생성 \n",
    "a.menu_print()  # 메뉴 출력\n",
    "a.menu_select()  # 주문\n",
    "a.pay()  # 지불\n",
    "a.table()  # 주문표 출력"
   ]
  },
  {
   "cell_type": "code",
   "execution_count": null,
   "id": "915a1d75",
   "metadata": {},
   "outputs": [],
   "source": []
  }
 ],
 "metadata": {
  "kernelspec": {
   "display_name": "Python 3 (ipykernel)",
   "language": "python",
   "name": "python3"
  },
  "language_info": {
   "codemirror_mode": {
    "name": "ipython",
    "version": 3
   },
   "file_extension": ".py",
   "mimetype": "text/x-python",
   "name": "python",
   "nbconvert_exporter": "python",
   "pygments_lexer": "ipython3",
   "version": "3.9.7"
  }
 },
 "nbformat": 4,
 "nbformat_minor": 5
}
